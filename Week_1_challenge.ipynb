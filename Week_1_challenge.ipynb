{
  "nbformat": 4,
  "nbformat_minor": 0,
  "metadata": {
    "colab": {
      "provenance": [],
      "toc_visible": true,
      "authorship_tag": "ABX9TyOz1VlIJcmyAVgnnVaHxpb2",
      "include_colab_link": true
    },
    "kernelspec": {
      "name": "python3",
      "display_name": "Python 3"
    },
    "language_info": {
      "name": "python"
    }
  },
  "cells": [
    {
      "cell_type": "markdown",
      "metadata": {
        "id": "view-in-github",
        "colab_type": "text"
      },
      "source": [
        "<a href=\"https://colab.research.google.com/github/JudithKimani/Python-data-analysis/blob/main/Week_1_challenge.ipynb\" target=\"_parent\"><img src=\"https://colab.research.google.com/assets/colab-badge.svg\" alt=\"Open In Colab\"/></a>"
      ]
    },
    {
      "cell_type": "markdown",
      "source": [
        "1. Find the nearest value from a given value in an array"
      ],
      "metadata": {
        "id": "LgOoKsxBe25d"
      }
    },
    {
      "cell_type": "code",
      "execution_count": null,
      "metadata": {
        "id": "ffzYuPToeu8y"
      },
      "outputs": [],
      "source": [
        "def find_nearest_value(array, value):\n",
        "    nearest = None\n",
        "    min_difference = float('inf')\n",
        "\n",
        "    for num in array:\n",
        "        difference = abs(num - value)\n",
        "        if difference < min_difference:\n",
        "            min_difference = difference\n",
        "            nearest = num\n",
        "\n",
        "    return nearest\n",
        "\n",
        "# Example usage:\n",
        "array = [1, 3, 5, 7, 9]\n",
        "value = 6\n",
        "nearest_value = find_nearest_value(array, value)\n",
        "print(\"Nearest value to\", value, \"in the array is:\", nearest_value)\n"
      ]
    },
    {
      "cell_type": "markdown",
      "source": [
        "2. Considering two arrays with shape (1,3) and (3,1), how to compute their sum using an iterator?"
      ],
      "metadata": {
        "id": "aW5cJQllfjna"
      }
    },
    {
      "cell_type": "code",
      "source": [
        "import numpy as np\n",
        "\n",
        "# I defined the arrays first\n",
        "array1 = np.array([[1, 2, 3]])\n",
        "array2 = np.array([[4], [5], [6]])\n",
        "\n",
        "# Created an iterator for each array\n",
        "iterator1 = np.nditer(array1)\n",
        "iterator2 = np.nditer(array2)\n",
        "\n",
        "\n",
        "total_sum = 0\n",
        "\n",
        "# The went ahead and Iterated over each element and compute the sum\n",
        "while not (iterator1.finished or iterator2.finished):\n",
        "    total_sum += iterator1[0] + iterator2[0]\n",
        "    iterator1.iternext()\n",
        "    iterator2.iternext()\n",
        "\n",
        "print(\"Sum of the two arrays:\", total_sum)\n"
      ],
      "metadata": {
        "id": "BQdblbHSewwD"
      },
      "execution_count": null,
      "outputs": []
    },
    {
      "cell_type": "markdown",
      "source": [
        "3. Create an array class that has a name attribute"
      ],
      "metadata": {
        "id": "bsx--I6vgMRM"
      }
    },
    {
      "cell_type": "code",
      "source": [
        "import numpy as np\n",
        "\n",
        "class NamedArray(np.ndarray):\n",
        "    def __new__(cls, input_array, name=None):\n",
        "        obj = np.asarray(input_array).view(cls)\n",
        "        obj.name = name\n",
        "        return obj\n",
        "\n",
        "    def __array_finalize__(self, obj):\n",
        "        if obj is None:\n",
        "            return\n",
        "        self.name = getattr(obj, 'name', None)\n",
        "\n",
        "# Example usage:\n",
        "data = np.array([1, 2, 3, 4, 5])\n",
        "named_array = NamedArray(data, name=\"Example Array\")\n",
        "\n",
        "# Accessing the array and its name attribute\n",
        "print(\"Array:\", named_array)\n",
        "print(\"Name:\", named_array.name)\n"
      ],
      "metadata": {
        "id": "G822M47WgRMJ"
      },
      "execution_count": null,
      "outputs": []
    },
    {
      "cell_type": "markdown",
      "source": [
        "4. Consider a given vector, how to add 1 to each element indexed by a second vector (be careful with repeated indices)?"
      ],
      "metadata": {
        "id": "1da7AkmGgb5a"
      }
    },
    {
      "cell_type": "code",
      "source": [
        "import numpy as np\n",
        "\n",
        "def add_to_elements(vector, indices):\n",
        "    result = np.copy(vector)\n",
        "\n",
        "    unique_indices, counts = np.unique(indices, return_counts=True)\n",
        "\n",
        "    result[unique_indices] += 1\n",
        "\n",
        "    result[unique_indices] -= counts - 1\n",
        "\n",
        "    return result\n",
        "\n",
        "# for instance:\n",
        "vector = np.array([0, 0, 0, 0, 0])\n",
        "indices = np.array([0, 1, 2, 2, 3])\n",
        "\n",
        "result = add_to_elements(vector, indices)\n",
        "print(\"Result:\", result)\n"
      ],
      "metadata": {
        "id": "doJEcH7ighVS"
      },
      "execution_count": null,
      "outputs": []
    },
    {
      "cell_type": "markdown",
      "source": [
        "5. How to accumulate elements of a vector (X) to an array (F) based on an index list (I)?"
      ],
      "metadata": {
        "id": "8aJhaiQJg7NL"
      }
    },
    {
      "cell_type": "code",
      "source": [
        "import numpy as np\n",
        "\n",
        "def accumulate_elements(X, F, I):\n",
        "    np.add.at(F, I, X)\n",
        "\n",
        "# E.g:\n",
        "X = np.array([1, 2, 3, 4, 5])\n",
        "F = np.zeros(6)  # Initialize array F with zeros\n",
        "I = np.array([0, 1, 2, 2, 3])  # Index list\n",
        "\n",
        "accumulate_elements(X, F, I)\n",
        "print(\"Accumulated array F:\", F)\n"
      ],
      "metadata": {
        "id": "B9rVz-9uhAec"
      },
      "execution_count": null,
      "outputs": []
    },
    {
      "cell_type": "markdown",
      "source": [
        "6. Considering a (w,h,3) image of (dtype=ubyte), compute the number of unique colors"
      ],
      "metadata": {
        "id": "6Wn-us8XhMhX"
      }
    },
    {
      "cell_type": "code",
      "source": [
        "import numpy as np\n",
        "\n",
        "def count_unique_colors(image):\n",
        "    # Reshape the image into a 2D array\n",
        "    reshaped_image = image.reshape(-1, 3)\n",
        "\n",
        "    # Find unique colors\n",
        "    unique_colors = np.unique(reshaped_image, axis=0)\n",
        "\n",
        "    # Return the number of unique colors\n",
        "    return len(unique_colors)\n",
        "\n",
        "# For instance:\n",
        "# Assuming 'image' is your (w, h, 3) image of type ubyte\n",
        "# Replace 'image' with your image array\n",
        "w, h = 100, 100  # Example dimensions\n",
        "image = np.random.randint(0, 256, size=(w, h, 3), dtype=np.uint8)  # Example random image\n",
        "\n",
        "unique_colors_count = count_unique_colors(image)\n",
        "print(\"Number of unique colors in the image:\", unique_colors_count)\n"
      ],
      "metadata": {
        "id": "TUaa6OLAhRag"
      },
      "execution_count": null,
      "outputs": []
    },
    {
      "cell_type": "markdown",
      "source": [
        "7. Considering a four dimensions array, how to get sum over the last two axis at once?"
      ],
      "metadata": {
        "id": "7edglj35hnFa"
      }
    },
    {
      "cell_type": "code",
      "source": [
        "import numpy as np\n",
        "\n",
        "# Create a four-dimensional array (example)\n",
        "array = np.random.randint(0, 10, size=(2, 3, 4, 5))\n",
        "\n",
        "# Get the sum over the last two axes at once\n",
        "sum_over_last_two_axes = np.sum(array, axis=(-2, -1))\n",
        "\n",
        "print(\"Original array shape:\", array.shape)\n",
        "print(\"Sum over the last two axes shape:\", sum_over_last_two_axes.shape)\n",
        "print(\"Sum over the last two axes:\")\n",
        "print(sum_over_last_two_axes)\n"
      ],
      "metadata": {
        "id": "Pl1SHH3ZhsIt"
      },
      "execution_count": null,
      "outputs": []
    },
    {
      "cell_type": "markdown",
      "source": [
        "8. Considering a one-dimensional vector D, how to compute means of subsets of D using a vector S of same size describing subset indices?"
      ],
      "metadata": {
        "id": "o1wCEVM6h26K"
      }
    },
    {
      "cell_type": "code",
      "source": [
        "import numpy as np\n",
        "\n",
        "def subset_means(D, S):\n",
        "    # Create a dictionary to store subsets\n",
        "    subsets = {}\n",
        "\n",
        "    for i, s in enumerate(S):\n",
        "        if s not in subsets:\n",
        "            subsets[s] = []\n",
        "        subsets[s].append(D[i])\n",
        "\n",
        "    subset_means = {key: np.mean(values) for key, values in subsets.items()}\n",
        "\n",
        "    return subset_means\n",
        "\n",
        "# E.g:\n",
        "D = np.array([1, 2, 3, 4, 5, 6, 7, 8, 9, 10])\n",
        "S = np.array([0, 1, 0, 1, 0, 1, 0, 1, 0, 1])  # Subset indices\n",
        "\n",
        "means = subset_means(D, S)\n",
        "print(\"Subset means:\", means)\n"
      ],
      "metadata": {
        "id": "vAB5O2sfh8MU"
      },
      "execution_count": null,
      "outputs": []
    },
    {
      "cell_type": "markdown",
      "source": [
        "9. How to get the diagonal of a dot product?"
      ],
      "metadata": {
        "id": "4KYgRI1xiIcP"
      }
    },
    {
      "cell_type": "code",
      "source": [
        "import numpy as np\n",
        "\n",
        "def diagonal_of_dot_product(matrix1, matrix2):\n",
        "    dot_product = np.einsum('ij,jk->ik', matrix1, matrix2)  # Dot product of two matrices\n",
        "    diagonal = np.diagonal(dot_product)  # Extract diagonal\n",
        "    return diagonal\n",
        "\n",
        "# Example usage:\n",
        "matrix1 = np.array([[1, 2],\n",
        "                    [3, 4]])\n",
        "matrix2 = np.array([[5, 6],\n",
        "                    [7, 8]])\n",
        "\n",
        "diagonal = diagonal_of_dot_product(matrix1, matrix2)\n",
        "print(\"Diagonal of the dot product:\", diagonal)\n"
      ],
      "metadata": {
        "id": "KYxgJhrdiOBJ"
      },
      "execution_count": null,
      "outputs": []
    },
    {
      "cell_type": "markdown",
      "source": [
        "10. Consider the vector [1, 2, 3, 4, 5], how to build a new vector with 3 consecutive zeros interleaved between each value?"
      ],
      "metadata": {
        "id": "aczyg3-IiWvw"
      }
    },
    {
      "cell_type": "code",
      "source": [
        "import numpy as np\n",
        "\n",
        "original_vector = np.array([1, 2, 3, 4, 5])\n",
        "zeros = np.zeros(len(original_vector) * 3)  # Create an array of zeros with the required length\n",
        "new_vector = np.zeros(len(original_vector) + len(zeros))  # Create an array to store the result\n",
        "\n",
        "# Assign original values to their positions in the new vector\n",
        "new_vector[::4] = original_vector\n",
        "\n",
        "print(\"Original vector:\", original_vector)\n",
        "print(\"New vector with zeros interleaved:\", new_vector)\n"
      ],
      "metadata": {
        "id": "lEMvSS5Fiadx"
      },
      "execution_count": null,
      "outputs": []
    },
    {
      "cell_type": "markdown",
      "source": [
        "11. Consider an array of dimension (5,5,3), how to mulitply it by an array with dimensions (5,5)?"
      ],
      "metadata": {
        "id": "LywU6AqIijFi"
      }
    },
    {
      "cell_type": "code",
      "source": [
        "import numpy as np\n",
        "\n",
        "# Create arrays\n",
        "array_3d = np.random.randint(1, 10, size=(5, 5, 3))\n",
        "array_2d = np.random.randint(1, 10, size=(5, 5))\n",
        "\n",
        "# Multiply array_3d by array_2d using broadcasting\n",
        "result = array_3d * array_2d[:, :, None]\n",
        "\n",
        "print(\"Array 3D shape:\", array_3d.shape)\n",
        "print(\"Array 2D shape:\", array_2d.shape)\n",
        "print(\"Result shape:\", result.shape)\n"
      ],
      "metadata": {
        "id": "1bsvBe-6im00"
      },
      "execution_count": null,
      "outputs": []
    },
    {
      "cell_type": "markdown",
      "source": [
        "12. How to swap two rows of an array?"
      ],
      "metadata": {
        "id": "20OWhjbGivKe"
      }
    },
    {
      "cell_type": "code",
      "source": [
        "import numpy as np\n",
        "\n",
        "# Create an example array\n",
        "array = np.array([[1, 2, 3],\n",
        "                  [4, 5, 6],\n",
        "                  [7, 8, 9]])\n",
        "\n",
        "array[0], array[1] = array[1], array[0]\n",
        "\n",
        "print(\"Array after swapping rows:\")\n",
        "print(array)\n"
      ],
      "metadata": {
        "id": "I6FzXS-2izvC"
      },
      "execution_count": null,
      "outputs": []
    },
    {
      "cell_type": "markdown",
      "source": [
        "13. Consider a set of 10 triplets describing 10 triangles (with shared vertices), find the set of unique line segments composing all the triangles"
      ],
      "metadata": {
        "id": "MkPjRc9ui8Uo"
      }
    },
    {
      "cell_type": "code",
      "source": [
        "import numpy as np\n",
        "\n",
        "def find_unique_line_segments(triplets):\n",
        "    line_segments = set()\n",
        "    for triplet in triplets:\n",
        "        # Extract vertices from the triplet\n",
        "        v1, v2, v3 = triplet\n",
        "\n",
        "        # Define line segments (unique pairs of vertices)\n",
        "        segments = [(v1, v2), (v2, v3), (v3, v1)]\n",
        "\n",
        "        # Add line segments to the set\n",
        "        line_segments.update(segments)\n",
        "\n",
        "    return line_segments\n",
        "\n",
        "# Example usage:\n",
        "triplets = [\n",
        "    [(0, 0), (1, 0), (0, 1)],\n",
        "    [(1, 0), (1, 1), (0, 1)],\n",
        "    [(1, 1), (2, 1), (2, 2)]\n",
        "]\n",
        "\n",
        "unique_line_segments = find_unique_line_segments(triplets)\n",
        "print(\"Unique line segments:\")\n",
        "for segment in unique_line_segments:\n",
        "    print(segment)\n"
      ],
      "metadata": {
        "id": "HAoslEMNjFZ_"
      },
      "execution_count": null,
      "outputs": []
    },
    {
      "cell_type": "markdown",
      "source": [
        "14. Given a sorted array C that corresponds to a bincount, how to produce an array A such that np.bincount(A) == C?"
      ],
      "metadata": {
        "id": "IzNO_xu0jQAZ"
      }
    },
    {
      "cell_type": "code",
      "source": [
        "import numpy as np\n",
        "\n",
        "def reconstruct_array_from_bincount(C):\n",
        "    indices = np.arange(len(C))  # Generate indices based on the length of C\n",
        "    A = np.repeat(indices, C)  # Repeat each index according to its count in C\n",
        "    return A\n",
        "\n",
        "# for instance:\n",
        "C = np.array([0, 2, 1, 1, 0, 3])  # Example bincount array\n",
        "A = reconstruct_array_from_bincount(C)\n",
        "print(\"Reconstructed array A:\", A)\n",
        "print(\"Result of np.bincount(A):\", np.bincount(A))\n",
        "print(\"Original bincount array C:\", C)\n",
        "print(\"Are the bincount arrays equal?\", np.array_equal(np.bincount(A), C))\n"
      ],
      "metadata": {
        "id": "YKkS_4NnjX5C"
      },
      "execution_count": null,
      "outputs": []
    },
    {
      "cell_type": "markdown",
      "source": [
        "15. How to compute averages using a sliding window over an array?"
      ],
      "metadata": {
        "id": "XQdDbtA1jmtk"
      }
    },
    {
      "cell_type": "code",
      "source": [
        "import numpy as np\n",
        "\n",
        "def sliding_window_average(arr, window_size):\n",
        "    # Create a 1D sliding window kernel with weights for averaging\n",
        "    kernel = np.ones(window_size) / window_size\n",
        "\n",
        "    averages = np.convolve(arr, kernel, mode='valid')\n",
        "\n",
        "    return averages\n",
        "\n",
        "# E.g:\n",
        "arr = np.array([1, 2, 3, 4, 5, 6, 7, 8, 9, 10])\n",
        "window_size = 3\n",
        "\n",
        "averages = sliding_window_average(arr, window_size)\n",
        "print(\"Original array:\", arr)\n",
        "print(\"Averages using a sliding window of size\", window_size, \":\", averages)\n"
      ],
      "metadata": {
        "id": "MXKtM8ZrjvNW"
      },
      "execution_count": null,
      "outputs": []
    },
    {
      "cell_type": "markdown",
      "source": [
        "16. Consider a one-dimensional array Z, build a two-dimensional array whose first row is (Z[0],Z[1],Z[2]) and each subsequent row is shifted by 1 (last row should be (Z[-3],Z[-2],Z[-1])"
      ],
      "metadata": {
        "id": "ilTJVTnyj6nx"
      }
    },
    {
      "cell_type": "code",
      "source": [
        "import numpy as np\n",
        "\n",
        "def build_shifted_array(Z):\n",
        "    # Determine the number of rows needed\n",
        "    num_rows = len(Z) - 2\n",
        "\n",
        "    result = np.array([Z[:3]])\n",
        "\n",
        "    for i in range(1, num_rows):\n",
        "        shifted_row = Z[i:i+3]\n",
        "        result = np.vstack((result, shifted_row))\n",
        "\n",
        "    return result\n",
        "\n",
        "# Example usage:\n",
        "Z = np.array([1, 2, 3, 4, 5, 6, 7])\n",
        "shifted_array = build_shifted_array(Z)\n",
        "print(\"Original array Z:\", Z)\n",
        "print(\"Resulting 2D array:\")\n",
        "print(shifted_array)\n"
      ],
      "metadata": {
        "id": "jVZpdi6HkDa6"
      },
      "execution_count": null,
      "outputs": []
    },
    {
      "cell_type": "markdown",
      "source": [
        "17. How to negate a boolean, or to change the sign of a float inplace?"
      ],
      "metadata": {
        "id": "Z7xM02q3kOS0"
      }
    },
    {
      "cell_type": "code",
      "source": [
        "# Original boolean value\n",
        "boolean_var = True\n",
        "\n",
        "boolean_var = not boolean_var\n",
        "\n",
        "print(\"Negated boolean:\", boolean_var)\n",
        "\n"
      ],
      "metadata": {
        "id": "7rgu23r_kWND"
      },
      "execution_count": null,
      "outputs": []
    },
    {
      "cell_type": "code",
      "source": [
        "\n",
        "float_var = 3.45\n",
        "float_var = -float_var\n",
        "\n",
        "print(\"Float with changed sign:\", float_var)\n"
      ],
      "metadata": {
        "colab": {
          "base_uri": "https://localhost:8080/"
        },
        "id": "2VRgxnu9koFk",
        "outputId": "5701e34c-873c-486f-a584-8bc072f90a96"
      },
      "execution_count": 16,
      "outputs": [
        {
          "output_type": "stream",
          "name": "stdout",
          "text": [
            "Float with changed sign: -3.45\n"
          ]
        }
      ]
    },
    {
      "cell_type": "markdown",
      "source": [
        "18. Consider 2 sets of points P0,P1 describing lines (2d) and a point p, how to compute distance from p to each line i (P0[i],P1[i])?"
      ],
      "metadata": {
        "id": "J9knLh0xkzGV"
      }
    },
    {
      "cell_type": "code",
      "source": [
        "import numpy as np\n",
        "\n",
        "def distance_to_line(P0, P1, p):\n",
        "    # Convert points to NumPy arrays for easier calculations\n",
        "    P0 = np.array(P0)\n",
        "    P1 = np.array(P1)\n",
        "    p = np.array(p)\n",
        "\n",
        "    # Vector from P0 to P1\n",
        "    v = P1 - P0\n",
        "\n",
        "    # Vector from P0 to p\n",
        "    w = p - P0\n",
        "\n",
        "    # Dot product of v and w\n",
        "    dot_product = np.dot(w, v)\n",
        "\n",
        "    # Square of the length of v\n",
        "    length_v_squared = np.dot(v, v)\n",
        "\n",
        "    # Parameter t for the point on the line segment closest to p\n",
        "    t = dot_product / length_v_squared\n",
        "\n",
        "    # Calculate the closest point on the line segment to p\n",
        "    closest_point = P0 + t * v\n",
        "\n",
        "    # Calculate the distance from p to the closest point\n",
        "    distance = np.linalg.norm(p - closest_point)\n",
        "\n",
        "    return distance\n",
        "\n",
        "# Example usage:\n",
        "P0 = [(1, 1), (2, 2), (3, 3)]  # Start points of the lines\n",
        "P1 = [(4, 4), (5, 5), (6, 6)]  # End points of the lines\n",
        "p = (7, 7)  # Point p\n",
        "\n",
        "distances = [distance_to_line(P0[i], P1[i], p) for i in range(len(P0))]\n",
        "print(\"Distances from point p to each line:\")\n",
        "print(distances)\n"
      ],
      "metadata": {
        "id": "E7reSZ3Zk6AF"
      },
      "execution_count": null,
      "outputs": []
    },
    {
      "cell_type": "markdown",
      "source": [
        "19. Consider 2 sets of points P0,P1 describing lines (2d) and a set of points P, how to compute distance from each point j (P[j]) to each line i (P0[i],P1[i])?"
      ],
      "metadata": {
        "id": "9HzPJs2XlH21"
      }
    },
    {
      "cell_type": "markdown",
      "source": [
        "20. Consider an arbitrary array, write a function that extract a subpart with a fixed shape and centered on a given element (pad with a fill value when necessary)\n",
        "\n",
        "Still working on it."
      ],
      "metadata": {
        "id": "kAH_15D4l1l4"
      }
    },
    {
      "cell_type": "markdown",
      "source": [
        "21. Consider an array Z = [1,2,3,4,5,6,7,8,9,10,11,12,13,14], how to generate an array R = [[1,2,3,4], [2,3,4,5], [3,4,5,6], ..., [11,12,13,14]]?"
      ],
      "metadata": {
        "id": "9ASW8M6KofTP"
      }
    },
    {
      "cell_type": "code",
      "source": [
        "import numpy as np\n",
        "\n",
        "# Original array Z\n",
        "Z = np.array([1, 2, 3, 4, 5, 6, 7, 8, 9, 10, 11, 12, 13, 14])\n",
        "\n",
        "# Length of each row in the output array\n",
        "row_length = 4\n",
        "\n",
        "# Number of rows in the output array\n",
        "num_rows = len(Z) - row_length + 1\n",
        "\n",
        "# Initialize the output array R\n",
        "R = np.zeros((num_rows, row_length), dtype=int)\n",
        "\n",
        "# Fill in the values for each row\n",
        "for i in range(num_rows):\n",
        "    R[i] = Z[i:i+row_length]\n",
        "\n",
        "print(\"Output array R:\")\n",
        "print(R)\n"
      ],
      "metadata": {
        "id": "NCrQB-SCof32"
      },
      "execution_count": null,
      "outputs": []
    },
    {
      "cell_type": "markdown",
      "source": [
        "22. Compute a matrix rank"
      ],
      "metadata": {
        "id": "c4mg1iWhorSw"
      }
    },
    {
      "cell_type": "code",
      "source": [
        "import numpy as np\n",
        "\n",
        "# Define your matrix\n",
        "matrix = np.array([[1, 2, 3],\n",
        "                   [4, 5, 6],\n",
        "                   [7, 8, 9]])\n",
        "\n",
        "# Compute the rank of the matrix\n",
        "rank = np.linalg.matrix_rank(matrix)\n",
        "\n",
        "print(\"Rank of the matrix:\", rank)\n"
      ],
      "metadata": {
        "id": "jMDBZxBpo0uu"
      },
      "execution_count": null,
      "outputs": []
    },
    {
      "cell_type": "markdown",
      "source": [
        "23. How to find the most frequent value in an array?"
      ],
      "metadata": {
        "id": "h9batquGq390"
      }
    },
    {
      "cell_type": "code",
      "source": [
        "import numpy as np\n",
        "\n",
        "# E.f array\n",
        "array = np.array([1, 2, 3, 2, 2, 3, 4, 2, 5, 2])\n",
        "\n",
        "counts = np.bincount(array)\n",
        "\n",
        "most_frequent_value = np.argmax(counts)\n",
        "\n",
        "print(\"Most frequent value:\", most_frequent_value)\n"
      ],
      "metadata": {
        "id": "mv7Y-7Icq76y"
      },
      "execution_count": null,
      "outputs": []
    },
    {
      "cell_type": "markdown",
      "source": [
        "24. Extract all the contiguous 3x3 blocks from a random 10x10 matrix"
      ],
      "metadata": {
        "id": "FQFFj7RmrLF6"
      }
    },
    {
      "cell_type": "code",
      "source": [
        "import numpy as np\n",
        "\n",
        "# Generate a random 10x10 matrix\n",
        "matrix = np.random.randint(0, 100, size=(10, 10))\n",
        "\n",
        "# Extract all contiguous 3x3 blocks\n",
        "blocks = []\n",
        "for i in range(8):  # Loop over rows\n",
        "    for j in range(8):  # Loop over columns\n",
        "        block = matrix[i:i+3, j:j+3]  # Extract a 3x3 block\n",
        "        blocks.append(block)\n",
        "\n",
        "# Convert the list of blocks to a NumPy array\n",
        "blocks_array = np.array(blocks)\n",
        "\n",
        "# Print the extracted blocks\n",
        "for idx, block in enumerate(blocks_array, 1):\n",
        "    print(\"Block\", idx, \":\\n\", block, \"\\n\")\n"
      ],
      "metadata": {
        "id": "cLZkj-thrTIF"
      },
      "execution_count": null,
      "outputs": []
    },
    {
      "cell_type": "markdown",
      "source": [
        "25. Create a 2D array subclass such that Z[i,j] == Z[j,i]\n",
        "\n",
        "Still working on it."
      ],
      "metadata": {
        "id": "X8mqitc4rasX"
      }
    },
    {
      "cell_type": "markdown",
      "source": [
        "26. Consider a set of p matrices wich shape (n,n) and a set of p vectors with shape (n,1). How to compute the sum of of the p matrix products at once? (result has shape (n,1))\n",
        "\n",
        "I cant work my way around this one, still working on it."
      ],
      "metadata": {
        "id": "RqWczdkdsghn"
      }
    },
    {
      "cell_type": "markdown",
      "source": [
        "27. Consider a 16x16 array, how to get the block-sum (block size is 4x4)?"
      ],
      "metadata": {
        "id": "lUdVfFpgs23r"
      }
    },
    {
      "cell_type": "code",
      "source": [
        "import numpy as np\n",
        "\n",
        "# Create a 16x16 array (example)\n",
        "array = np.random.randint(1, 10, size=(16, 16))\n",
        "\n",
        "# Reshape the array into blocks of size 4x4\n",
        "block_shape = (4, 4)\n",
        "num_blocks = array.shape[0] // block_shape[0], array.shape[1] // block_shape[1]\n",
        "blocks = array.reshape(num_blocks[0], block_shape[0], num_blocks[1], block_shape[1])\n",
        "\n",
        "# Sum along the block dimensions to get the block-sum\n",
        "block_sum = blocks.sum(axis=(1, 3))\n",
        "\n",
        "print(\"Block sum (shape {}):\".format(block_sum.shape))\n",
        "print(block_sum)\n"
      ],
      "metadata": {
        "id": "7Z31wXRfs99d"
      },
      "execution_count": null,
      "outputs": []
    },
    {
      "cell_type": "markdown",
      "source": [
        "28. How to implement the Game of Life using numpy arrays?"
      ],
      "metadata": {
        "id": "pIQpozEGtDwC"
      }
    },
    {
      "cell_type": "code",
      "source": [
        "import numpy as np\n",
        "import matplotlib.pyplot as plt\n",
        "import matplotlib.animation as animation\n",
        "\n",
        "def game_of_life(initial_state, steps):\n",
        "\n",
        "    current_state = initial_state.copy()\n",
        "    next_state = np.zeros_like(current_state)\n",
        "\n",
        "    for _ in range(steps):\n",
        "        for i in range(current_state.shape[0]):\n",
        "            for j in range(current_state.shape[1]):\n",
        "                # Count the number of live neighbors\n",
        "                live_neighbors = np.sum(current_state[max(0, i-1):min(current_state.shape[0], i+2),\n",
        "                                                        max(0, j-1):min(current_state.shape[1], j+2)]) - current_state[i, j]\n",
        "\n",
        "                # Apply the rules of the Game of Life\n",
        "                if current_state[i, j] == 1:\n",
        "                    if live_neighbors < 2 or live_neighbors > 3:\n",
        "                        next_state[i, j] = 0\n",
        "                    else:\n",
        "                        next_state[i, j] = 1\n",
        "                else:\n",
        "                    if live_neighbors == 3:\n",
        "                        next_state[i, j] = 1\n",
        "\n",
        "        current_state, next_state = next_state, current_state\n",
        "\n",
        "    return current_state\n",
        "\n",
        "# Define the initial state of the grid\n",
        "initial_state = np.random.choice([0, 1], size=(50, 50), p=[0.5, 0.5])\n",
        "\n",
        "# Simulate the Game of Life for 100 steps\n",
        "final_state = game_of_life(initial_state, steps=100)\n",
        "\n",
        "# Plot the final state of the grid\n",
        "plt.imshow(final_state, cmap='binary')\n",
        "plt.title(\"Final State of the Game of Life\")\n",
        "plt.show()\n"
      ],
      "metadata": {
        "id": "BRItv1hctLAC"
      },
      "execution_count": null,
      "outputs": []
    },
    {
      "cell_type": "markdown",
      "source": [
        "29. How to get the n largest values of an array"
      ],
      "metadata": {
        "id": "xAu1DqvIteIS"
      }
    },
    {
      "cell_type": "code",
      "source": [
        "import numpy as np\n",
        "\n",
        "def n_largest_values(array, n):\n",
        "\n",
        "    partitioned_indices = np.argpartition(array, -n)[-n:]\n",
        "\n",
        "    sorted_indices = partitioned_indices[np.argsort(array[partitioned_indices])][::-1]\n",
        "\n",
        "    n_largest = array[sorted_indices]\n",
        "\n",
        "    return n_largest\n",
        "\n",
        "# Example usage:\n",
        "array = np.array([3, 1, 7, 9, 4, 2, 6, 8, 5])\n",
        "n = 3\n",
        "\n",
        "largest_values = n_largest_values(array, n)\n",
        "print(\"The {} largest values in the array:\".format(n), largest_values)\n"
      ],
      "metadata": {
        "id": "Zg6ucsjttm7j"
      },
      "execution_count": null,
      "outputs": []
    },
    {
      "cell_type": "markdown",
      "source": [
        "30. Given an arbitrary number of vectors, build the cartesian product (every combinations of every item)"
      ],
      "metadata": {
        "id": "6WPLKuCEt2yP"
      }
    },
    {
      "cell_type": "code",
      "source": [
        "from itertools import product\n",
        "\n",
        "def cartesian_product(*vectors):\n",
        "    return list(product(*vectors))\n",
        "\n",
        "# E:\n",
        "vector1 = [1, 2, 3]\n",
        "vector2 = ['a', 'b']\n",
        "vector3 = [True, False]\n",
        "\n",
        "result = cartesian_product(vector1, vector2, vector3)\n",
        "print(\"Cartesian product:\", result)\n"
      ],
      "metadata": {
        "id": "YJmFGi_Lt9ML"
      },
      "execution_count": null,
      "outputs": []
    },
    {
      "cell_type": "markdown",
      "source": [
        "31. How to create a record array from a regular array?"
      ],
      "metadata": {
        "id": "veqfhv-wuHSO"
      }
    },
    {
      "cell_type": "code",
      "source": [
        "import numpy as np\n",
        "\n",
        "# Regular array\n",
        "regular_array = np.array([[1, 'a', 0.1],\n",
        "                          [2, 'b', 0.2],\n",
        "                          [3, 'c', 0.3]])\n",
        "\n",
        "field_names = ['field1', 'field2', 'field3']\n",
        "\n",
        "record_array = np.core.records.fromarrays(regular_array.T, names=','.join(field_names))\n",
        "\n",
        "print(\"Record array:\")\n",
        "print(record_array)\n"
      ],
      "metadata": {
        "id": "rvVtIWVYuM3l"
      },
      "execution_count": null,
      "outputs": []
    },
    {
      "cell_type": "markdown",
      "source": [
        "32. Consider a large vector Z, compute Z to the power of 3 using 3 different methods"
      ],
      "metadata": {
        "id": "lnLEuhWEuZwY"
      }
    },
    {
      "cell_type": "code",
      "source": [
        "import numpy as np\n",
        "\n",
        "# Generate a large vector Z (example)\n",
        "Z = np.random.randint(1, 10, size=(1000000,))\n",
        "\n",
        "result1 = Z ** 3\n",
        "\n",
        "result2 = np.power(Z, 3)\n",
        "\n",
        "result3 = np.empty_like(Z)\n",
        "for i in range(len(Z)):\n",
        "    result3[i] = Z[i] **3\n",
        "assert np.array_equal(result1, result2) and np.array_equal(result2, result3)\n",
        "\n",
        "print(\"Results are equal.\")\n"
      ],
      "metadata": {
        "id": "rge3FHWfueyM"
      },
      "execution_count": null,
      "outputs": []
    },
    {
      "cell_type": "markdown",
      "source": [
        "33. Consider two arrays A and B of shape (8,3) and (2,2). How to find rows of A that contain elements of each row of B regardless of the order of the elements in B?\n",
        "\n",
        "Didnt manage this one still working on it."
      ],
      "metadata": {
        "id": "me60HObBu2Zn"
      }
    },
    {
      "cell_type": "markdown",
      "source": [
        "34. Considering a 10x3 matrix, extract rows with unequal values (e.g. [2,2,3])"
      ],
      "metadata": {
        "id": "q9CUaptZwXMV"
      }
    },
    {
      "cell_type": "code",
      "source": [
        "import numpy as np\n",
        "\n",
        "# Example 10x3 matrix\n",
        "matrix = np.array([[1, 2, 3],\n",
        "                   [4, 5, 6],\n",
        "                   [7, 7, 7],\n",
        "                   [2, 2, 2],\n",
        "                   [3, 3, 3],\n",
        "                   [4, 4, 4],\n",
        "                   [5, 6, 7],\n",
        "                   [8, 8, 8],\n",
        "                   [9, 9, 9],\n",
        "                   [10, 11, 12]])\n",
        "\n",
        "# Extract rows with unequal values\n",
        "unequal_rows = matrix[np.apply_along_axis(lambda row: len(np.unique(row)) > 1, axis=1, arr=matrix)]\n",
        "\n",
        "print(\"Rows with unequal values:\")\n",
        "print(unequal_rows)\n"
      ],
      "metadata": {
        "id": "QN7z79CKwkxT"
      },
      "execution_count": null,
      "outputs": []
    },
    {
      "cell_type": "markdown",
      "source": [
        "35. Convert a vector of ints into a matrix binary representation"
      ],
      "metadata": {
        "id": "N4K2prQiwzOb"
      }
    },
    {
      "cell_type": "code",
      "source": [
        "import numpy as np\n",
        "\n",
        "def int_to_binary_matrix(vector):\n",
        "\n",
        "    num_bits = int(np.ceil(np.log2(np.max(vector) + 1)))\n",
        "\n",
        "    # Convert each integer to binary representation\n",
        "    binary_matrix = np.array([list(np.binary_repr(num, width=num_bits)) for num in vector], dtype=int)\n",
        "\n",
        "    return binary_matrix\n",
        "\n",
        "# Example usage:\n",
        "vector = np.array([5, 10, 15, 3])\n",
        "\n",
        "binary_matrix = int_to_binary_matrix(vector)\n",
        "print(\"Binary representation matrix:\")\n",
        "print(binary_matrix)\n"
      ],
      "metadata": {
        "id": "pQAVLJsQw83b"
      },
      "execution_count": null,
      "outputs": []
    },
    {
      "cell_type": "markdown",
      "source": [
        "36. Given a two dimensional array, how to extract unique rows?"
      ],
      "metadata": {
        "id": "09Kbyo_RxEwe"
      }
    },
    {
      "cell_type": "code",
      "source": [
        "import numpy as np\n",
        "\n",
        "# Example 2D array\n",
        "array = np.array([[1, 2, 3],\n",
        "                  [4, 5, 6],\n",
        "                  [1, 2, 3],\n",
        "                  [7, 8, 9],\n",
        "                  [4, 5, 6]])\n",
        "\n",
        "unique_rows = np.unique(array, axis=0)\n",
        "\n",
        "print(\"Unique rows:\")\n",
        "print(unique_rows)\n"
      ],
      "metadata": {
        "id": "xHYMe_n3xLdG"
      },
      "execution_count": null,
      "outputs": []
    },
    {
      "cell_type": "markdown",
      "source": [
        "37. Considering 2 vectors A & B, write the einsum equivalent of inner, outer, sum, and mul function"
      ],
      "metadata": {
        "id": "WuQbWB7ExVpk"
      }
    },
    {
      "cell_type": "code",
      "source": [
        "outer_product = np.einsum('i,j->ij', A, B)\n",
        "sum_result = np.einsum('i->', A)  # Sum of elements of A\n",
        "elementwise_product = np.einsum('i,i->i', A, B)\n"
      ],
      "metadata": {
        "id": "WbJvzGaNxa9C"
      },
      "execution_count": null,
      "outputs": []
    },
    {
      "cell_type": "markdown",
      "source": [
        "38. Considering a path described by two vectors (X,Y), how to sample it using equidistant samples?"
      ],
      "metadata": {
        "id": "Hzg0ZmH9xyXN"
      }
    },
    {
      "cell_type": "code",
      "source": [
        "import numpy as np\n",
        "\n",
        "def sample_path_equidistant(X, Y, num_samples):\n",
        "\n",
        "    path_length = np.sum(np.sqrt(np.diff(X)**2 + np.diff(Y)**2))\n",
        "\n",
        "    step_size = path_length / (num_samples - 1)\n",
        "\n",
        "    sampled_X = np.zeros(num_samples)\n",
        "    sampled_Y = np.zeros(num_samples)\n",
        "\n",
        "    cumulative_distance = 0\n",
        "    sampled_index = 0\n",
        "    for i in range(len(X) - 1):\n",
        "        segment_length = np.sqrt((X[i+1] - X[i])**2 + (Y[i+1] - Y[i])**2)\n",
        "        while sampled_index < num_samples and cumulative_distance <= (sampled_index * step_size):\n",
        "            fraction = (cumulative_distance - (sampled_index - 1) * step_size) / segment_length\n",
        "            sampled_X[sampled_index] = X[i] + fraction * (X[i+1] - X[i])\n",
        "            sampled_Y[sampled_index] = Y[i] + fraction * (Y[i+1] - Y[i])\n",
        "            sampled_index += 1\n",
        "            cumulative_distance += step_size\n",
        "\n",
        "    return sampled_X, sampled_Y\n",
        "\n",
        "# E.g:\n",
        "X = np.array([0, 1, 2, 3, 4])\n",
        "Y = np.array([0, 1, 3, 2, 4])\n",
        "num_samples = 10\n",
        "\n",
        "sampled_X, sampled_Y = sample_path_equidistant(X, Y, num_samples)\n",
        "print(\"Sampled X coordinates:\", sampled_X)\n",
        "print(\"Sampled Y coordinates:\", sampled_Y)\n"
      ],
      "metadata": {
        "id": "_QSIELevx2vH"
      },
      "execution_count": null,
      "outputs": []
    },
    {
      "cell_type": "markdown",
      "source": [
        "39. Given an integer n and a 2D array X, select from X the rows which can be interpreted as draws from a multinomial distribution with n degrees, i.e., the rows which only contain integers and which sum to n."
      ],
      "metadata": {
        "id": "3CYmIialyRyU"
      }
    },
    {
      "cell_type": "code",
      "source": [
        "import numpy as np\n",
        "\n",
        "def select_multinomial_rows(n, X):\n",
        "\n",
        "    mask = (X.sum(axis=1) == n) & (X == X.astype(int)).all(axis=1)\n",
        "\n",
        "    selected_rows = X[mask]\n",
        "\n",
        "    return selected_rows\n",
        "\n",
        "# E.g:\n",
        "n = 10\n",
        "X = np.array([[1, 2, 7],\n",
        "              [3, 3, 4],\n",
        "              [5, 2, 3],\n",
        "              [0, 10, 0]])\n",
        "\n",
        "selected_rows = select_multinomial_rows(n, X)\n",
        "print(\"Selected rows:\")\n",
        "print(selected_rows)\n"
      ],
      "metadata": {
        "id": "fRAgp0LeyYEC"
      },
      "execution_count": null,
      "outputs": []
    },
    {
      "cell_type": "markdown",
      "source": [
        "40. Compute bootstrapped 95% confidence intervals for the mean of a 1D array X (i.e., resample the elements of an array with replacement N times, compute the mean of each sample, and then compute percentiles over the means)."
      ],
      "metadata": {
        "id": "vEDo3Ajxykbb"
      }
    },
    {
      "cell_type": "code",
      "source": [
        "import numpy as np\n",
        "\n",
        "def bootstrap_confidence_interval(X, N, alpha=0.05):\n",
        "\n",
        "    sample_means = np.zeros(N)\n",
        "\n",
        "\n",
        "    for i in range(N):\n",
        "        resampled_data = np.random.choice(X, size=len(X), replace=True)\n",
        "\n",
        "        sample_means[i] = np.mean(resampled_data)\n",
        "\n",
        "\n",
        "    lower_bound = np.percentile(sample_means, 100 * alpha / 2)\n",
        "    upper_bound = np.percentile(sample_means, 100 * (1 - alpha / 2))\n",
        "\n",
        "    return lower_bound, upper_bound\n",
        "\n",
        "# E.g:\n",
        "X = np.array([1, 2, 3, 4, 5, 6, 7, 8, 9, 10])\n",
        "N = 1000  # No. bootstraps\n",
        "\n",
        "lower_bound, upper_bound = bootstrap_confidence_interval(X, N)\n",
        "print(\"Bootstrapped 95% confidence interval for the mean:\", (lower_bound, upper_bound))\n"
      ],
      "metadata": {
        "id": "9a9g0m25yrM7"
      },
      "execution_count": null,
      "outputs": []
    }
  ]
}