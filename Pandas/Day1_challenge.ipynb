{
  "nbformat": 4,
  "nbformat_minor": 0,
  "metadata": {
    "colab": {
      "provenance": []
    },
    "kernelspec": {
      "name": "python3",
      "display_name": "Python 3"
    },
    "language_info": {
      "name": "python"
    }
  },
  "cells": [
    {
      "cell_type": "code",
      "execution_count": 1,
      "metadata": {
        "id": "XYS13b4tcW2B"
      },
      "outputs": [],
      "source": [
        "import pandas as pd"
      ]
    },
    {
      "cell_type": "markdown",
      "source": [
        "Create a data dictionary that looks like the DataFrame below"
      ],
      "metadata": {
        "id": "xa5mMcnycv8F"
      }
    },
    {
      "cell_type": "code",
      "source": [
        "data = {\n",
        "    'evolution': ['Ivysaur', 'Charmeleon', 'Wartortle', 'Metapod'],\n",
        "    'hp': [45, 39, 44, 45],\n",
        "    'name': ['Bulbasaur', 'Charmander', 'Squirtle', 'Caterpie'],\n",
        "    'pokedex': ['yes', 'no', 'yes', 'no'],\n",
        "    'type': ['grass', 'fire', 'water', 'bug']\n",
        "}\n",
        "\n",
        "df1 = pd.DataFrame(data)\n",
        "\n",
        "df1_dict = df1.to_dict(orient='list')\n",
        "\n",
        "print(df1_dict)"
      ],
      "metadata": {
        "colab": {
          "base_uri": "https://localhost:8080/"
        },
        "id": "Tlcy9R9gcwzO",
        "outputId": "50086990-0c92-4f08-fe7a-5b2e3f1e6b33"
      },
      "execution_count": 12,
      "outputs": [
        {
          "output_type": "stream",
          "name": "stdout",
          "text": [
            "{'evolution': ['Ivysaur', 'Charmeleon', 'Wartortle', 'Metapod'], 'hp': [45, 39, 44, 45], 'name': ['Bulbasaur', 'Charmander', 'Squirtle', 'Caterpie'], 'pokedex': ['yes', 'no', 'yes', 'no'], 'type': ['grass', 'fire', 'water', 'bug']}\n"
          ]
        }
      ]
    },
    {
      "cell_type": "markdown",
      "source": [
        "Assign it to a variable called pokemon"
      ],
      "metadata": {
        "id": "VKEINbLoqIfV"
      }
    },
    {
      "cell_type": "code",
      "source": [
        "data = {\n",
        "    'evolution': ['Ivysaur', 'Charmeleon', 'Wartortle', 'Metapod'],\n",
        "    'hp': [45, 39, 44, 45],\n",
        "    'name': ['Bulbasaur', 'Charmander', 'Squirtle', 'Caterpie'],\n",
        "    'pokedex': ['yes', 'no', 'yes', 'no'],\n",
        "    'type': ['grass', 'fire', 'water', 'bug']\n",
        "}\n",
        "\n",
        "pokemon = pd.DataFrame(data)"
      ],
      "metadata": {
        "id": "LXuRye19qOBy"
      },
      "execution_count": 13,
      "outputs": []
    },
    {
      "cell_type": "markdown",
      "source": [
        "Ops...it seems the DataFrame columns are in alphabetical order. Place the order of the columns as name, type, hp, evolution, pokedex"
      ],
      "metadata": {
        "id": "GVkJcU0YqdZR"
      }
    },
    {
      "cell_type": "code",
      "source": [
        "data = {\n",
        "    'evolution': ['Ivysaur', 'Charmeleon', 'Wartortle', 'Metapod'],\n",
        "    'hp': [45, 39, 44, 45],\n",
        "    'name': ['Bulbasaur', 'Charmander', 'Squirtle', 'Caterpie'],\n",
        "    'pokedex': ['yes', 'no', 'yes', 'no'],\n",
        "    'type': ['grass', 'fire', 'water', 'bug']\n",
        "}\n",
        "\n",
        "pokemon = pd.DataFrame(data)\n",
        "\n",
        "pokemon_reordered = pokemon[['name', 'type', 'hp', 'evolution', 'pokedex']]\n",
        "\n",
        "print(pokemon_reordered)"
      ],
      "metadata": {
        "colab": {
          "base_uri": "https://localhost:8080/"
        },
        "id": "UWba07ferIdI",
        "outputId": "ba4aea91-82c7-4087-8f5f-0076d593170d"
      },
      "execution_count": 15,
      "outputs": [
        {
          "output_type": "stream",
          "name": "stdout",
          "text": [
            "         name   type  hp   evolution pokedex\n",
            "0   Bulbasaur  grass  45     Ivysaur     yes\n",
            "1  Charmander   fire  39  Charmeleon      no\n",
            "2    Squirtle  water  44   Wartortle     yes\n",
            "3    Caterpie    bug  45     Metapod      no\n"
          ]
        }
      ]
    },
    {
      "cell_type": "markdown",
      "source": [
        "Add another column called place, and insert what you have in mind."
      ],
      "metadata": {
        "id": "Ixo-tF0ar01M"
      }
    },
    {
      "cell_type": "code",
      "source": [
        "data = {\n",
        "    'evolution': ['Ivysaur', 'Charmeleon', 'Wartortle', 'Metapod'],\n",
        "    'hp': [45, 39, 44, 45],\n",
        "    'name': ['Bulbasaur', 'Charmander', 'Squirtle', 'Caterpie'],\n",
        "    'pokedex': ['yes', 'no', 'yes', 'no'],\n",
        "    'type': ['grass', 'fire', 'water', 'bug']\n",
        "}\n",
        "\n",
        "pokemon = pd.DataFrame(data)\n",
        "\n",
        "places = ['jupiter',' uranus', 'pluto', 'mars']\n",
        "\n",
        "pokemon['places'] = places\n",
        "\n",
        "pokemon_reordered = pokemon[['name', 'type', 'hp', 'evolution', 'pokedex', 'places']]\n",
        "\n",
        "print(pokemon_reordered)"
      ],
      "metadata": {
        "colab": {
          "base_uri": "https://localhost:8080/"
        },
        "id": "Epd2vlGGr6Oz",
        "outputId": "1c40719a-b6ab-43ea-f65d-002978a3c267"
      },
      "execution_count": 16,
      "outputs": [
        {
          "output_type": "stream",
          "name": "stdout",
          "text": [
            "         name   type  hp   evolution pokedex   places\n",
            "0   Bulbasaur  grass  45     Ivysaur     yes  jupiter\n",
            "1  Charmander   fire  39  Charmeleon      no   uranus\n",
            "2    Squirtle  water  44   Wartortle     yes    pluto\n",
            "3    Caterpie    bug  45     Metapod      no     mars\n"
          ]
        }
      ]
    },
    {
      "cell_type": "markdown",
      "source": [
        "Present the type of each column"
      ],
      "metadata": {
        "id": "x4I-BQqnsyt8"
      }
    },
    {
      "cell_type": "code",
      "source": [
        "data = {\n",
        "    'evolution': ['Ivysaur', 'Charmeleon', 'Wartortle', 'Metapod'],\n",
        "    'hp': [45, 39, 44, 45],\n",
        "    'name': ['Bulbasaur', 'Charmander', 'Squirtle', 'Caterpie'],\n",
        "    'pokedex': ['yes', 'no', 'yes', 'no'],\n",
        "    'type': ['grass', 'fire', 'water', 'bug']\n",
        "}\n",
        "\n",
        "pokemon = pd.DataFrame(data)\n",
        "\n",
        "print(pokemon.dtypes)"
      ],
      "metadata": {
        "colab": {
          "base_uri": "https://localhost:8080/"
        },
        "id": "z7GoNc8Ts2zt",
        "outputId": "34dbbadf-5675-45af-fd53-18819b9fc04f"
      },
      "execution_count": 17,
      "outputs": [
        {
          "output_type": "stream",
          "name": "stdout",
          "text": [
            "evolution    object\n",
            "hp            int64\n",
            "name         object\n",
            "pokedex      object\n",
            "type         object\n",
            "dtype: object\n"
          ]
        }
      ]
    }
  ]
}