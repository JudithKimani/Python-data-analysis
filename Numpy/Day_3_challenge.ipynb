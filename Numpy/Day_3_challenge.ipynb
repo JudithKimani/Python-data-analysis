{
  "nbformat": 4,
  "nbformat_minor": 0,
  "metadata": {
    "colab": {
      "provenance": []
    },
    "kernelspec": {
      "name": "python3",
      "display_name": "Python 3"
    },
    "language_info": {
      "name": "python"
    }
  },
  "cells": [
    {
      "cell_type": "code",
      "execution_count": 4,
      "metadata": {
        "id": "dxmx8fKDBCo_"
      },
      "outputs": [],
      "source": [
        "import numpy as np"
      ]
    },
    {
      "cell_type": "markdown",
      "source": [
        "1. How to ignore all numpy warnings?"
      ],
      "metadata": {
        "id": "upZfU1HjBhYE"
      }
    },
    {
      "cell_type": "code",
      "source": [
        "old_settings = np.seterr(all='ignore')\n",
        "\n",
        "np.seterr(**old_settings)\n"
      ],
      "metadata": {
        "id": "OQRe8HOMBm2_"
      },
      "execution_count": null,
      "outputs": []
    },
    {
      "cell_type": "markdown",
      "source": [
        "2. Is the following expressions true?\n",
        "\n",
        "np.sqrt(-1) == np.emath.sqrt(-1)\n"
      ],
      "metadata": {
        "id": "dxlG231DCs0G"
      }
    },
    {
      "cell_type": "markdown",
      "source": [
        "They arent the same np.sqrt(-1) is mainly used for 'real' numbers while np.emath.sqrt(-1) is meant for complex numbers so it returns the square root."
      ],
      "metadata": {
        "id": "VbyxL__WEBmQ"
      }
    },
    {
      "cell_type": "markdown",
      "source": [
        "3."
      ],
      "metadata": {
        "id": "QEnEoIe5E_Bk"
      }
    },
    {
      "cell_type": "code",
      "source": [
        "from datetime import datetime, timedelta\n",
        "\n",
        "today = datetime.now().date()\n",
        "\n",
        "yesterday = today - timedelta(1)\n",
        "\n",
        "tomorrow = today + timedelta(1)\n",
        "\n",
        "print(\"Yesterday:\", yesterday)\n",
        "print(\"Today:\", today)\n",
        "print(\"Tomorrow:\", tomorrow)\n"
      ],
      "metadata": {
        "colab": {
          "base_uri": "https://localhost:8080/"
        },
        "id": "4swozc7kCx6q",
        "outputId": "9bd641d9-64d9-407d-ba9c-85fafb49c26b"
      },
      "execution_count": null,
      "outputs": [
        {
          "output_type": "stream",
          "name": "stdout",
          "text": [
            "Yesterday: 2024-02-19\n",
            "Today: 2024-02-20\n",
            "Tomorrow: 2024-02-21\n"
          ]
        }
      ]
    },
    {
      "cell_type": "markdown",
      "source": [
        "4. How to get all the dates corresponding to the month of July 2016?"
      ],
      "metadata": {
        "id": "6NXH_FStGAq7"
      }
    },
    {
      "cell_type": "code",
      "source": [
        "\n",
        "print(np.arange('2016-07', '2016-08', dtype='datetime64[D]'))"
      ],
      "metadata": {
        "colab": {
          "base_uri": "https://localhost:8080/"
        },
        "id": "HgrlrqqmGHmG",
        "outputId": "d98521e7-a10c-4fe5-9716-c32822659593"
      },
      "execution_count": null,
      "outputs": [
        {
          "output_type": "stream",
          "name": "stdout",
          "text": [
            "['2016-07-01' '2016-07-02' '2016-07-03' '2016-07-04' '2016-07-05'\n",
            " '2016-07-06' '2016-07-07' '2016-07-08' '2016-07-09' '2016-07-10'\n",
            " '2016-07-11' '2016-07-12' '2016-07-13' '2016-07-14' '2016-07-15'\n",
            " '2016-07-16' '2016-07-17' '2016-07-18' '2016-07-19' '2016-07-20'\n",
            " '2016-07-21' '2016-07-22' '2016-07-23' '2016-07-24' '2016-07-25'\n",
            " '2016-07-26' '2016-07-27' '2016-07-28' '2016-07-29' '2016-07-30'\n",
            " '2016-07-31']\n"
          ]
        }
      ]
    },
    {
      "cell_type": "markdown",
      "source": [
        "5. How to compute ((A+B)*(-A/2)) in place (without copy)?"
      ],
      "metadata": {
        "id": "CWyjp_4bIYEb"
      }
    },
    {
      "cell_type": "code",
      "source": [
        "import numpy as np\n",
        "\n",
        "\n",
        "A = np.array([1, 2, 3])\n",
        "B = np.array([4, 5, 6])\n",
        "\n",
        "\n",
        "np.add(A, B, out=A)\n",
        "np.multiply(A, -A / 2, out=A)\n",
        "\n",
        "# Result stored in A\n",
        "print(A)\n"
      ],
      "metadata": {
        "id": "pCB0UrP9KSAc"
      },
      "execution_count": null,
      "outputs": []
    },
    {
      "cell_type": "markdown",
      "source": [
        "6. Extract the integer part of a random array of positive numbers using 4 different methods"
      ],
      "metadata": {
        "id": "qWSd3gjiKhir"
      }
    },
    {
      "cell_type": "code",
      "source": [
        "random_array = np.random.rand(5) * 10\n",
        "\n",
        "integer_part_floor = np.floor(random_array)\n",
        "\n",
        "integer_part_ceil = np.ceil(random_array)\n",
        "\n",
        "integer_part_cast = random_array.astype(int)\n",
        "\n",
        "integer_part_bitwise = random_array & 0xFFFFFFFFFFFFFFF0\n",
        "\n",
        "# Print the results\n",
        "print(\"Original Array:\", random_array)\n",
        "print(\"Integer Part (Floor):\", integer_part_floor)\n",
        "print(\"Integer Part (Ceil):\", integer_part_ceil)\n",
        "print(\"Integer Part (Cast):\", integer_part_cast)\n",
        "print(\"Integer Part (Bitwise):\", integer_part_bitwise)\n"
      ],
      "metadata": {
        "id": "PHaNxZRAMre1"
      },
      "execution_count": null,
      "outputs": []
    },
    {
      "cell_type": "markdown",
      "source": [
        "7. Create a 5x5 matrix with row values ranging from 0 to 4"
      ],
      "metadata": {
        "id": "aIpJeGXtNx_V"
      }
    },
    {
      "cell_type": "code",
      "source": [
        "matrix = np.arange(5).reshape(-1, 1) + np.arange(5)\n",
        "\n",
        "print(matrix)"
      ],
      "metadata": {
        "colab": {
          "base_uri": "https://localhost:8080/"
        },
        "id": "NZgKVZmpN6V9",
        "outputId": "7844d896-24ef-4aa1-81b2-bf6dd9759ec5"
      },
      "execution_count": null,
      "outputs": [
        {
          "output_type": "stream",
          "name": "stdout",
          "text": [
            "[[0 1 2 3 4]\n",
            " [1 2 3 4 5]\n",
            " [2 3 4 5 6]\n",
            " [3 4 5 6 7]\n",
            " [4 5 6 7 8]]\n"
          ]
        }
      ]
    },
    {
      "cell_type": "markdown",
      "source": [
        "8. Consider a generator function that generates 10 integers and use it to build an array"
      ],
      "metadata": {
        "id": "_5z35gcgRTdi"
      }
    },
    {
      "cell_type": "code",
      "source": [
        "def generate():\n",
        "    for x in range(10):\n",
        "        yield x\n",
        "Z = np.fromiter(generate(),dtype=float,count=-1)\n",
        "print(Z)"
      ],
      "metadata": {
        "colab": {
          "base_uri": "https://localhost:8080/"
        },
        "id": "OgF36e6uR8gg",
        "outputId": "2015d7f0-2b77-40bb-dfbd-b96e9dc613f9"
      },
      "execution_count": 5,
      "outputs": [
        {
          "output_type": "stream",
          "name": "stdout",
          "text": [
            "[0. 1. 2. 3. 4. 5. 6. 7. 8. 9.]\n"
          ]
        }
      ]
    },
    {
      "cell_type": "markdown",
      "source": [
        "9. Create a vector of size 10 with values ranging from 0 to 1, both excluded"
      ],
      "metadata": {
        "id": "iFv06nzwShW_"
      }
    },
    {
      "cell_type": "code",
      "source": [
        "V = np.linspace(0,1,12,endpoint=True)[1:-1]\n",
        "print(V)"
      ],
      "metadata": {
        "colab": {
          "base_uri": "https://localhost:8080/"
        },
        "id": "dpVHVaDASs6F",
        "outputId": "2ab94ba6-455c-4cd2-a232-dc8876cc3538"
      },
      "execution_count": 6,
      "outputs": [
        {
          "output_type": "stream",
          "name": "stdout",
          "text": [
            "[0. 1. 2. 3. 4. 5. 6. 7. 8. 9.]\n"
          ]
        }
      ]
    },
    {
      "cell_type": "markdown",
      "source": [
        "10. Create a random vector of size 10 and sort it"
      ],
      "metadata": {
        "id": "2m_0e4qzTLAA"
      }
    },
    {
      "cell_type": "code",
      "source": [
        "i = np.random.random(10)\n",
        "i.sort()\n",
        "print(i)"
      ],
      "metadata": {
        "colab": {
          "base_uri": "https://localhost:8080/"
        },
        "id": "qw2_aGeNTNWs",
        "outputId": "11274ac6-cf96-401a-e80b-7851d1d12056"
      },
      "execution_count": 7,
      "outputs": [
        {
          "output_type": "stream",
          "name": "stdout",
          "text": [
            "[0.01536492 0.12661055 0.25515878 0.29316453 0.3776484  0.46605525\n",
            " 0.48764948 0.71714744 0.83676998 0.92359163]\n"
          ]
        }
      ]
    },
    {
      "cell_type": "markdown",
      "source": [
        "11. How to sum a small array faster than np.sum?"
      ],
      "metadata": {
        "id": "QPQR01RfTbyL"
      }
    },
    {
      "cell_type": "code",
      "source": [
        "small_array = np.array([1, 2, 3, 4, 5])\n",
        "\n",
        "result = sum(small_array)\n",
        "\n",
        "print(result)\n"
      ],
      "metadata": {
        "colab": {
          "base_uri": "https://localhost:8080/"
        },
        "id": "Vz6Ol94zTiy5",
        "outputId": "a85978af-09b9-49f5-a62b-6f6e0e5a143d"
      },
      "execution_count": 8,
      "outputs": [
        {
          "output_type": "stream",
          "name": "stdout",
          "text": [
            "15\n"
          ]
        }
      ]
    },
    {
      "cell_type": "markdown",
      "source": [
        "12. Consider two random array A anb B, check if they are equal"
      ],
      "metadata": {
        "id": "KUXYOFxfUAOc"
      }
    },
    {
      "cell_type": "code",
      "source": [
        "A = np.random.randint(0,2,5)\n",
        "B = np.random.randint(0,2,5)\n",
        "\n",
        "equal = np.allclose(A,B)\n",
        "print(equal)\n",
        "\n",
        "equal = np.array_equal(A,B)\n",
        "print(equal)"
      ],
      "metadata": {
        "colab": {
          "base_uri": "https://localhost:8080/"
        },
        "id": "dZZETwA9UF8_",
        "outputId": "4eeb61a9-b7cc-408c-efb7-151f201cf810"
      },
      "execution_count": 9,
      "outputs": [
        {
          "output_type": "stream",
          "name": "stdout",
          "text": [
            "False\n",
            "False\n"
          ]
        }
      ]
    },
    {
      "cell_type": "markdown",
      "source": [
        "13. Make an array immutable (read-only)"
      ],
      "metadata": {
        "id": "8VbXhWtcUVyR"
      }
    },
    {
      "cell_type": "code",
      "source": [
        "Z = np.zeros(10)\n",
        "Z.flags.writeable = False\n",
        "print(Z)"
      ],
      "metadata": {
        "colab": {
          "base_uri": "https://localhost:8080/"
        },
        "id": "pHXUquTmUdh2",
        "outputId": "a8c396f9-fa41-48fb-d6d5-53c6ab110000"
      },
      "execution_count": 12,
      "outputs": [
        {
          "output_type": "stream",
          "name": "stdout",
          "text": [
            "[0. 0. 0. 0. 0. 0. 0. 0. 0. 0.]\n"
          ]
        }
      ]
    },
    {
      "cell_type": "markdown",
      "source": [
        "14. Consider a random 10x2 matrix representing cartesian coordinates, convert them to polar coordinates"
      ],
      "metadata": {
        "id": "75ChoMaSVAtZ"
      }
    },
    {
      "cell_type": "code",
      "source": [
        "Z = np.random.random((10,2))\n",
        "X,Y = Z[:,0], Z[:,1]\n",
        "R = np.sqrt(X**2+Y**2)\n",
        "T = np.arctan2(Y,X)\n",
        "print(R)\n",
        "print(T)"
      ],
      "metadata": {
        "colab": {
          "base_uri": "https://localhost:8080/"
        },
        "id": "066gP1MzVFRG",
        "outputId": "944b1bba-0a04-415d-c141-7ce4a4a554f6"
      },
      "execution_count": 13,
      "outputs": [
        {
          "output_type": "stream",
          "name": "stdout",
          "text": [
            "[0.69194381 0.85117245 0.24111108 0.89713305 0.79904861 0.87539558\n",
            " 0.97429882 0.69498276 1.19892615 0.86455278]\n",
            "[0.77147092 0.18697809 1.07850471 0.21444515 0.99723116 1.11639116\n",
            " 0.27046561 0.67365724 0.88834191 1.32505195]\n"
          ]
        }
      ]
    },
    {
      "cell_type": "markdown",
      "source": [
        "15. Create random vector of size 10 and replace the maximum value by 0"
      ],
      "metadata": {
        "id": "PpZdfWZSVV_F"
      }
    },
    {
      "cell_type": "code",
      "source": [
        "t = np.random.random(10)\n",
        "t[T.argmax()] = 0\n",
        "print(t)"
      ],
      "metadata": {
        "colab": {
          "base_uri": "https://localhost:8080/"
        },
        "id": "9Uqk9nEWVbeF",
        "outputId": "b4087f48-e69d-4955-b18a-3090fbfb42f9"
      },
      "execution_count": 14,
      "outputs": [
        {
          "output_type": "stream",
          "name": "stdout",
          "text": [
            "[0.38801672 0.72760969 0.85817925 0.14604422 0.78900974 0.52947807\n",
            " 0.08174366 0.72815376 0.00689537 0.        ]\n"
          ]
        }
      ]
    }
  ]
}