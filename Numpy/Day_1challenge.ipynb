{
  "nbformat": 4,
  "nbformat_minor": 0,
  "metadata": {
    "colab": {
      "provenance": []
    },
    "kernelspec": {
      "name": "python3",
      "display_name": "Python 3"
    },
    "language_info": {
      "name": "python"
    }
  },
  "cells": [
    {
      "cell_type": "markdown",
      "source": [
        "1. Import the numpy package under the name np"
      ],
      "metadata": {
        "id": "VaVopo_ojiJA"
      }
    },
    {
      "cell_type": "code",
      "execution_count": 1,
      "metadata": {
        "id": "zmTSRDU7jbTQ"
      },
      "outputs": [],
      "source": [
        "import numpy as np"
      ]
    },
    {
      "cell_type": "markdown",
      "source": [
        "2. Print the numpy version and the configuration"
      ],
      "metadata": {
        "id": "Czle9l9Ijyy6"
      }
    },
    {
      "cell_type": "code",
      "source": [
        "np.__version__"
      ],
      "metadata": {
        "colab": {
          "base_uri": "https://localhost:8080/",
          "height": 35
        },
        "id": "Ryy3oQV_j1wz",
        "outputId": "1dbb93af-c7f6-442d-c88f-6d9919edce3a"
      },
      "execution_count": 3,
      "outputs": [
        {
          "output_type": "execute_result",
          "data": {
            "text/plain": [
              "'1.25.2'"
            ],
            "application/vnd.google.colaboratory.intrinsic+json": {
              "type": "string"
            }
          },
          "metadata": {},
          "execution_count": 3
        }
      ]
    },
    {
      "cell_type": "markdown",
      "source": [
        "3. Create a null vector of size 10"
      ],
      "metadata": {
        "id": "Be-e8-fvkWje"
      }
    },
    {
      "cell_type": "code",
      "source": [
        "null_vector = np.zeros(10)\n",
        "print(null_vector)"
      ],
      "metadata": {
        "colab": {
          "base_uri": "https://localhost:8080/"
        },
        "id": "qusdl6x5kbhJ",
        "outputId": "b588b3a9-6c38-49fd-d75b-39a06634c0b7"
      },
      "execution_count": 7,
      "outputs": [
        {
          "output_type": "stream",
          "name": "stdout",
          "text": [
            "[0. 0. 0. 0. 0. 0. 0. 0. 0. 0.]\n"
          ]
        }
      ]
    },
    {
      "cell_type": "markdown",
      "source": [
        "4. How to find the memory size of any array"
      ],
      "metadata": {
        "id": "lHfJHwXClUhR"
      }
    },
    {
      "cell_type": "code",
      "source": [
        "arr = np.array([2,3,4,1,8,9])\n",
        "memory_size_bytes = arr.nbytes\n",
        "\n",
        "print(memory_size_bytes)"
      ],
      "metadata": {
        "colab": {
          "base_uri": "https://localhost:8080/"
        },
        "id": "Rdz0zyJ-lYtT",
        "outputId": "c0543516-f8bd-45db-dd9a-86d47f66de60"
      },
      "execution_count": 10,
      "outputs": [
        {
          "output_type": "stream",
          "name": "stdout",
          "text": [
            "48\n"
          ]
        }
      ]
    },
    {
      "cell_type": "markdown",
      "source": [
        "5. How to get the documentation of the numpy add function from the command line?"
      ],
      "metadata": {
        "id": "87qNHHK2mr3d"
      }
    },
    {
      "cell_type": "code",
      "source": [
        "python -c \"import numpy; help(numpy.add)\"\n"
      ],
      "metadata": {
        "id": "RgheNCsOnFZq"
      },
      "execution_count": null,
      "outputs": []
    },
    {
      "cell_type": "markdown",
      "source": [
        "6. Create a null vector of size 10 but the fifth value which is 1"
      ],
      "metadata": {
        "id": "SacTEP4BnHsT"
      }
    },
    {
      "cell_type": "code",
      "source": [
        "null_vector = np.zeros(10)\n",
        "null_vector [4]= 1\n",
        "print(null_vector)\n"
      ],
      "metadata": {
        "id": "g2XG4vzZnMKX"
      },
      "execution_count": null,
      "outputs": []
    },
    {
      "cell_type": "markdown",
      "source": [
        "7. Create a vector with values ranging from 10 to 49"
      ],
      "metadata": {
        "id": "fscBqUxKoGvf"
      }
    },
    {
      "cell_type": "code",
      "source": [
        "vector = np.arange(10,49)\n",
        "print(vector)"
      ],
      "metadata": {
        "colab": {
          "base_uri": "https://localhost:8080/"
        },
        "id": "o7RoqJ0CoMm3",
        "outputId": "d4885bda-1a8a-45f9-ea3d-9266fdd336f4"
      },
      "execution_count": 22,
      "outputs": [
        {
          "output_type": "stream",
          "name": "stdout",
          "text": [
            "[10 11 12 13 14 15 16 17 18 19 20 21 22 23 24 25 26 27 28 29 30 31 32 33\n",
            " 34 35 36 37 38 39 40 41 42 43 44 45 46 47 48]\n"
          ]
        }
      ]
    },
    {
      "cell_type": "markdown",
      "source": [
        "8. Reverse a vector (first element becomes last)"
      ],
      "metadata": {
        "id": "gXtyro95pVtt"
      }
    },
    {
      "cell_type": "code",
      "source": [
        "vector = [10, 11, 12, 13, 14, 15, 16, 17, 18, 19, 20]\n",
        "\n",
        "reversed_vector = vector[::-1]\n",
        "print(reversed_vector)"
      ],
      "metadata": {
        "colab": {
          "base_uri": "https://localhost:8080/"
        },
        "id": "JDeQ9U73pZmn",
        "outputId": "c235f8f3-dea1-4369-9511-95855641ff3d"
      },
      "execution_count": 26,
      "outputs": [
        {
          "output_type": "stream",
          "name": "stdout",
          "text": [
            "[20, 19, 18, 17, 16, 15, 14, 13, 12, 11, 10]\n"
          ]
        }
      ]
    },
    {
      "cell_type": "markdown",
      "source": [
        "9. Create a 3x3 matrix with values ranging from 0 to 8"
      ],
      "metadata": {
        "id": "Wz1iAo9KqmB1"
      }
    },
    {
      "cell_type": "code",
      "source": [
        "matrix = np.arange(9).reshape(3,3)\n",
        "\n",
        "print(matrix)"
      ],
      "metadata": {
        "colab": {
          "base_uri": "https://localhost:8080/"
        },
        "id": "DGLR0p6sqqwJ",
        "outputId": "6e5e3b2f-0fa2-49f7-811c-9d6464646d3e"
      },
      "execution_count": 33,
      "outputs": [
        {
          "output_type": "stream",
          "name": "stdout",
          "text": [
            "[[0 1 2]\n",
            " [3 4 5]\n",
            " [6 7 8]]\n"
          ]
        }
      ]
    },
    {
      "cell_type": "markdown",
      "source": [
        "10. Find indices of non-zero elements from [1,2,0,0,4,0]"
      ],
      "metadata": {
        "id": "97W2R7TSr_EA"
      }
    },
    {
      "cell_type": "code",
      "source": [
        "elements = [1,2,0,0,4,0]\n",
        "\n",
        "nonzero_elements= np.nonzero(elements)\n",
        "print(nonzero_elements)"
      ],
      "metadata": {
        "colab": {
          "base_uri": "https://localhost:8080/"
        },
        "id": "Y9AWRLlcsFJT",
        "outputId": "cf90ff64-0ab9-4148-fb31-5b3530cff94f"
      },
      "execution_count": 35,
      "outputs": [
        {
          "output_type": "stream",
          "name": "stdout",
          "text": [
            "(array([0, 1, 4]),)\n"
          ]
        }
      ]
    },
    {
      "cell_type": "markdown",
      "source": [
        "11. Create a 3x3 identity matrix"
      ],
      "metadata": {
        "id": "Qxn3K-ies38G"
      }
    },
    {
      "cell_type": "code",
      "source": [
        "np.eye(3)"
      ],
      "metadata": {
        "colab": {
          "base_uri": "https://localhost:8080/"
        },
        "id": "xBRp5-71s9eN",
        "outputId": "f11c83e2-92e1-46e4-bb4b-8b23af202132"
      },
      "execution_count": 36,
      "outputs": [
        {
          "output_type": "execute_result",
          "data": {
            "text/plain": [
              "array([[1., 0., 0.],\n",
              "       [0., 1., 0.],\n",
              "       [0., 0., 1.]])"
            ]
          },
          "metadata": {},
          "execution_count": 36
        }
      ]
    },
    {
      "cell_type": "markdown",
      "source": [
        "12. Create a 3x3x3 array with random values"
      ],
      "metadata": {
        "id": "L1rq1sUntqWi"
      }
    },
    {
      "cell_type": "code",
      "source": [
        "values= np.random.rand(3,3,3)\n",
        "print(values)"
      ],
      "metadata": {
        "colab": {
          "base_uri": "https://localhost:8080/"
        },
        "id": "PFf_P9CZtv0g",
        "outputId": "9ed45573-218d-4063-faac-5cf19b9f154e"
      },
      "execution_count": 42,
      "outputs": [
        {
          "output_type": "stream",
          "name": "stdout",
          "text": [
            "[[[0.23753611 0.1723402  0.70134149]\n",
            "  [0.10292656 0.1542785  0.5366897 ]\n",
            "  [0.04738314 0.45134533 0.6660394 ]]\n",
            "\n",
            " [[0.74593436 0.74731878 0.15321543]\n",
            "  [0.93211699 0.55242172 0.8840386 ]\n",
            "  [0.07502203 0.36431202 0.17181178]]\n",
            "\n",
            " [[0.48137814 0.21646203 0.69837579]\n",
            "  [0.04818996 0.44494454 0.74772532]\n",
            "  [0.06202232 0.61081667 0.92371986]]]\n"
          ]
        }
      ]
    },
    {
      "cell_type": "markdown",
      "source": [
        "13. Create a 10x10 array with random values and find the minimum and maximum values"
      ],
      "metadata": {
        "id": "0Zxd801LvfG2"
      }
    },
    {
      "cell_type": "code",
      "source": [
        "values= np.random.rand(10,10)\n",
        "\n",
        "min_value = values.min()\n",
        "max_value = values.max()\n",
        "\n",
        "print(min_value)\n",
        "print(max_value)"
      ],
      "metadata": {
        "colab": {
          "base_uri": "https://localhost:8080/"
        },
        "id": "altku2jbvkWW",
        "outputId": "39b272c4-218c-4b7f-eb2e-b27f85f49da9"
      },
      "execution_count": 43,
      "outputs": [
        {
          "output_type": "stream",
          "name": "stdout",
          "text": [
            "0.02006875996760049\n",
            "0.9972663209867386\n"
          ]
        }
      ]
    },
    {
      "cell_type": "markdown",
      "source": [
        "14. Create a random vector of size 30 and find the mean value"
      ],
      "metadata": {
        "id": "m1TBxC7MwSaa"
      }
    },
    {
      "cell_type": "code",
      "source": [
        "vector = np.random.rand(30)\n",
        "mean_vector = vector.mean()\n",
        "\n",
        "print(mean_vector)"
      ],
      "metadata": {
        "colab": {
          "base_uri": "https://localhost:8080/"
        },
        "id": "6MBlC03awW_K",
        "outputId": "2a72ca95-4578-4442-9c31-1b7a4f13add7"
      },
      "execution_count": 44,
      "outputs": [
        {
          "output_type": "stream",
          "name": "stdout",
          "text": [
            "0.5160155222293352\n"
          ]
        }
      ]
    },
    {
      "cell_type": "markdown",
      "source": [
        "15. Create a 2d array with 1 on the border and 0 inside"
      ],
      "metadata": {
        "id": "WgnKxC4-w4ay"
      }
    },
    {
      "cell_type": "code",
      "source": [
        "import numpy as np\n",
        "\n",
        "rows, cols = 5, 5\n",
        "\n",
        "array = np.zeros((rows, cols))\n",
        "\n",
        "array[0, :] = 1\n",
        "array[-1, :] = 1\n",
        "array[:, 0] = 1\n",
        "array[:, -1] = 1\n",
        "\n",
        "print(array)\n"
      ],
      "metadata": {
        "colab": {
          "base_uri": "https://localhost:8080/"
        },
        "id": "0oSVmTtqw8aJ",
        "outputId": "aa298388-027c-4f75-f4de-498b9b90a706"
      },
      "execution_count": 46,
      "outputs": [
        {
          "output_type": "stream",
          "name": "stdout",
          "text": [
            "[[1. 1. 1. 1. 1.]\n",
            " [1. 0. 0. 0. 1.]\n",
            " [1. 0. 0. 0. 1.]\n",
            " [1. 0. 0. 0. 1.]\n",
            " [1. 1. 1. 1. 1.]]\n"
          ]
        }
      ]
    }
  ]
}