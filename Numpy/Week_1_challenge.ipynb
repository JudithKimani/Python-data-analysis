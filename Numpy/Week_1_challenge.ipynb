{
  "nbformat": 4,
  "nbformat_minor": 0,
  "metadata": {
    "colab": {
      "provenance": []
    },
    "kernelspec": {
      "name": "python3",
      "display_name": "Python 3"
    },
    "language_info": {
      "name": "python"
    }
  },
  "cells": [
    {
      "cell_type": "code",
      "source": [
        "import numpy as np"
      ],
      "metadata": {
        "id": "57Ls9CzXXBCP"
      },
      "execution_count": 2,
      "outputs": []
    },
    {
      "cell_type": "markdown",
      "source": [
        "1. Find the nearest value from a given value in an array"
      ],
      "metadata": {
        "id": "LgOoKsxBe25d"
      }
    },
    {
      "cell_type": "code",
      "source": [
        "Z = np.random.uniform(0,1,10)\n",
        "z = 0.5\n",
        "n = Z.flat[np.abs(Z - z).argmin()]\n",
        "print(n)"
      ],
      "metadata": {
        "colab": {
          "base_uri": "https://localhost:8080/"
        },
        "id": "WtC1t2cUYXF9",
        "outputId": "438b762e-aa55-4717-8335-c42c93c0ac9a"
      },
      "execution_count": 8,
      "outputs": [
        {
          "output_type": "stream",
          "name": "stdout",
          "text": [
            "0.5218582255939791\n"
          ]
        }
      ]
    },
    {
      "cell_type": "markdown",
      "source": [
        "2. Considering two arrays with shape (1,3) and (3,1), how to compute their sum using an iterator?"
      ],
      "metadata": {
        "id": "aW5cJQllfjna"
      }
    },
    {
      "cell_type": "code",
      "source": [
        "A = np.arange(3).reshape(3,1)\n",
        "B = np.arange(3).reshape(1,3)\n",
        "it = np.nditer([A,B,None])\n",
        "for x,y,z in it: z[...] = x + y\n",
        "print(it.operands[2])"
      ],
      "metadata": {
        "colab": {
          "base_uri": "https://localhost:8080/"
        },
        "id": "sH1IcZX3ZKfd",
        "outputId": "ae32c56c-b7c5-4c7a-97c1-3fa8add45f37"
      },
      "execution_count": 9,
      "outputs": [
        {
          "output_type": "stream",
          "name": "stdout",
          "text": [
            "[[0 1 2]\n",
            " [1 2 3]\n",
            " [2 3 4]]\n"
          ]
        }
      ]
    },
    {
      "cell_type": "markdown",
      "source": [
        "3. Create an array class that has a name attribute"
      ],
      "metadata": {
        "id": "bsx--I6vgMRM"
      }
    },
    {
      "cell_type": "code",
      "source": [
        "class NamedArray(np.ndarray):\n",
        "    def __new__(cls, array, name=\"no name\"):\n",
        "        obj = np.asarray(array).view(cls)\n",
        "        obj.name = name\n",
        "        return obj\n",
        "    def __array_finalize__(self, obj):\n",
        "        if obj is None: return\n",
        "        self.info = getattr(obj, 'name', \"no name\")\n",
        "\n",
        "r = NamedArray(np.arange(10), \"range_10\")\n",
        "print (r.name)"
      ],
      "metadata": {
        "id": "VSQHzOV_ZTlC"
      },
      "execution_count": null,
      "outputs": []
    },
    {
      "cell_type": "markdown",
      "source": [
        "4. Consider a given vector, how to add 1 to each element indexed by a second vector (be careful with repeated indices)?"
      ],
      "metadata": {
        "id": "1da7AkmGgb5a"
      }
    },
    {
      "cell_type": "code",
      "source": [
        "y = np.ones(10)\n",
        "I = np.random.randint(0,len(y),20)\n",
        "np.add.at(y, I, 1)\n",
        "print(y)\n"
      ],
      "metadata": {
        "colab": {
          "base_uri": "https://localhost:8080/"
        },
        "id": "2Yw5oVuTZkA7",
        "outputId": "b36444c8-a717-45f5-eef7-bfaa49de7d05"
      },
      "execution_count": 12,
      "outputs": [
        {
          "output_type": "stream",
          "name": "stdout",
          "text": [
            "[1. 4. 2. 4. 4. 2. 3. 2. 5. 3.]\n"
          ]
        }
      ]
    },
    {
      "cell_type": "markdown",
      "source": [
        "5. How to accumulate elements of a vector (X) to an array (F) based on an index list (I)?"
      ],
      "metadata": {
        "id": "8aJhaiQJg7NL"
      }
    },
    {
      "cell_type": "code",
      "source": [
        "X = [1,2,3,4,5,6]\n",
        "I = [1,3,9,3,4,1]\n",
        "F = np.bincount(I,X)\n",
        "print(F)"
      ],
      "metadata": {
        "colab": {
          "base_uri": "https://localhost:8080/"
        },
        "id": "NgaTRrchaWHe",
        "outputId": "d249d081-cf0e-47f4-f66a-800bd26d7365"
      },
      "execution_count": 13,
      "outputs": [
        {
          "output_type": "stream",
          "name": "stdout",
          "text": [
            "[0. 7. 0. 6. 5. 0. 0. 0. 0. 3.]\n"
          ]
        }
      ]
    },
    {
      "cell_type": "markdown",
      "source": [
        "6. Considering a (w,h,3) image of (dtype=ubyte), compute the number of unique colors"
      ],
      "metadata": {
        "id": "6Wn-us8XhMhX"
      }
    },
    {
      "cell_type": "code",
      "source": [
        "w,h = 16,16\n",
        "I = np.random.randint(0,2,(h,w,3)).astype(np.ubyte)\n",
        "F = I[...,0]*256*256 + I[...,1]*256 +I[...,2]\n",
        "n = len(np.unique(F))\n",
        "print(np.unique(I))"
      ],
      "metadata": {
        "colab": {
          "base_uri": "https://localhost:8080/"
        },
        "id": "BBQuF8VQahBn",
        "outputId": "ae335aeb-646e-488d-fb96-b0b90c63784a"
      },
      "execution_count": 14,
      "outputs": [
        {
          "output_type": "stream",
          "name": "stdout",
          "text": [
            "[0 1]\n"
          ]
        }
      ]
    },
    {
      "cell_type": "markdown",
      "source": [
        "7. Considering a four dimensions array, how to get sum over the last two axis at once?"
      ],
      "metadata": {
        "id": "7edglj35hnFa"
      }
    },
    {
      "cell_type": "code",
      "source": [
        "A = np.random.randint(0,10,(3,4,3,4))\n",
        "sum = A.sum(axis=(-2,-1))\n",
        "print(sum)"
      ],
      "metadata": {
        "colab": {
          "base_uri": "https://localhost:8080/"
        },
        "id": "Vlj_YT7ja3u3",
        "outputId": "a88521cd-c8cd-44f9-aa1b-08e9b021de4c"
      },
      "execution_count": 16,
      "outputs": [
        {
          "output_type": "stream",
          "name": "stdout",
          "text": [
            "[[51 50 57 59]\n",
            " [73 39 77 71]\n",
            " [36 61 57 45]]\n"
          ]
        }
      ]
    },
    {
      "cell_type": "markdown",
      "source": [
        "8. Considering a one-dimensional vector D, how to compute means of subsets of D using a vector S of same size describing subset indices?"
      ],
      "metadata": {
        "id": "o1wCEVM6h26K"
      }
    },
    {
      "cell_type": "code",
      "source": [
        "D = np.random.uniform(0,1,100)\n",
        "S = np.random.randint(0,10,100)\n",
        "D_sums = np.bincount(S, weights=D)\n",
        "D_counts = np.bincount(S)\n",
        "D_means = D_sums / D_counts\n",
        "print(D_means)\n"
      ],
      "metadata": {
        "colab": {
          "base_uri": "https://localhost:8080/"
        },
        "id": "q3_VntC-bW61",
        "outputId": "4c827b50-15cf-46c2-f47e-59ad0be4210f"
      },
      "execution_count": 17,
      "outputs": [
        {
          "output_type": "stream",
          "name": "stdout",
          "text": [
            "[0.57201046 0.5945813  0.36231357 0.42572621 0.4706866  0.53125028\n",
            " 0.42442124 0.72383097 0.60528869 0.44924334]\n"
          ]
        }
      ]
    },
    {
      "cell_type": "markdown",
      "source": [
        "9. How to get the diagonal of a dot product?"
      ],
      "metadata": {
        "id": "4KYgRI1xiIcP"
      }
    },
    {
      "cell_type": "code",
      "source": [
        "A = np.random.uniform(0,1,(5,5))\n",
        "B = np.random.uniform(0,1,(5,5))\n",
        "\n",
        "np.sum(A * B.T, axis=1)"
      ],
      "metadata": {
        "colab": {
          "base_uri": "https://localhost:8080/"
        },
        "id": "mRjDWPxPcMh-",
        "outputId": "4e8bc6f1-e883-4796-bd65-69903c58e8cf"
      },
      "execution_count": 19,
      "outputs": [
        {
          "output_type": "execute_result",
          "data": {
            "text/plain": [
              "array([0.63439137, 1.70840238, 0.86366345, 0.91485224, 1.4372927 ])"
            ]
          },
          "metadata": {},
          "execution_count": 19
        }
      ]
    },
    {
      "cell_type": "markdown",
      "source": [
        "10. Consider the vector [1, 2, 3, 4, 5], how to build a new vector with 3 consecutive zeros interleaved between each value?"
      ],
      "metadata": {
        "id": "aczyg3-IiWvw"
      }
    },
    {
      "cell_type": "code",
      "source": [
        "Z = np.array([1,2,3,4,5])\n",
        "nz = 3\n",
        "Z0 = np.zeros(len(Z) + (len(Z)-1)*(nz))\n",
        "Z0[::nz+1] = Z\n",
        "print(Z0)"
      ],
      "metadata": {
        "colab": {
          "base_uri": "https://localhost:8080/"
        },
        "id": "OHceGrnzeEcB",
        "outputId": "efc1f705-0559-434a-8a04-6de199c06f41"
      },
      "execution_count": 24,
      "outputs": [
        {
          "output_type": "stream",
          "name": "stdout",
          "text": [
            "[1. 0. 0. 0. 2. 0. 0. 0. 3. 0. 0. 0. 4. 0. 0. 0. 5.]\n"
          ]
        }
      ]
    },
    {
      "cell_type": "markdown",
      "source": [
        "11. Consider an array of dimension (5,5,3), how to mulitply it by an array with dimensions (5,5)?"
      ],
      "metadata": {
        "id": "LywU6AqIijFi"
      }
    },
    {
      "cell_type": "code",
      "source": [
        "X = np.ones((5,5,3))\n",
        "Y = 2*np.ones((5,5))\n",
        "print(X * Y[:,:,None])"
      ],
      "metadata": {
        "colab": {
          "base_uri": "https://localhost:8080/"
        },
        "id": "rSR7Li2zei6X",
        "outputId": "a2358320-5fcb-4263-f04a-7a2a4448d74c"
      },
      "execution_count": 25,
      "outputs": [
        {
          "output_type": "stream",
          "name": "stdout",
          "text": [
            "[[[2. 2. 2.]\n",
            "  [2. 2. 2.]\n",
            "  [2. 2. 2.]\n",
            "  [2. 2. 2.]\n",
            "  [2. 2. 2.]]\n",
            "\n",
            " [[2. 2. 2.]\n",
            "  [2. 2. 2.]\n",
            "  [2. 2. 2.]\n",
            "  [2. 2. 2.]\n",
            "  [2. 2. 2.]]\n",
            "\n",
            " [[2. 2. 2.]\n",
            "  [2. 2. 2.]\n",
            "  [2. 2. 2.]\n",
            "  [2. 2. 2.]\n",
            "  [2. 2. 2.]]\n",
            "\n",
            " [[2. 2. 2.]\n",
            "  [2. 2. 2.]\n",
            "  [2. 2. 2.]\n",
            "  [2. 2. 2.]\n",
            "  [2. 2. 2.]]\n",
            "\n",
            " [[2. 2. 2.]\n",
            "  [2. 2. 2.]\n",
            "  [2. 2. 2.]\n",
            "  [2. 2. 2.]\n",
            "  [2. 2. 2.]]]\n"
          ]
        }
      ]
    },
    {
      "cell_type": "markdown",
      "source": [
        "12. How to swap two rows of an array?"
      ],
      "metadata": {
        "id": "20OWhjbGivKe"
      }
    },
    {
      "cell_type": "code",
      "source": [
        "array = np.array([[1, 2, 3],\n",
        "                  [4, 5, 6],\n",
        "                  [7, 8, 9]])\n",
        "\n",
        "array[0], array[1] = array[1], array[0]\n",
        "\n",
        "print(\"Array after swapping rows:\")\n",
        "print(array)\n"
      ],
      "metadata": {
        "id": "I6FzXS-2izvC",
        "colab": {
          "base_uri": "https://localhost:8080/"
        },
        "outputId": "99e724a6-19b2-453a-bd59-e50ce4ff02b9"
      },
      "execution_count": 26,
      "outputs": [
        {
          "output_type": "stream",
          "name": "stdout",
          "text": [
            "Array after swapping rows:\n",
            "[[4 5 6]\n",
            " [4 5 6]\n",
            " [7 8 9]]\n"
          ]
        }
      ]
    },
    {
      "cell_type": "markdown",
      "source": [
        "13. Consider a set of 10 triplets describing 10 triangles (with shared vertices), find the set of unique line segments composing all the triangles"
      ],
      "metadata": {
        "id": "MkPjRc9ui8Uo"
      }
    },
    {
      "cell_type": "code",
      "source": [
        "faces = np.random.randint(0,100,(10,3))\n",
        "F = np.roll(faces.repeat(2,axis=1),-1,axis=1)\n",
        "F = F.reshape(len(F)*3,2)\n",
        "F = np.sort(F,axis=1)\n",
        "G = F.view( dtype=[('p0',F.dtype),('p1',F.dtype)] )\n",
        "G = np.unique(G)\n",
        "print(G)"
      ],
      "metadata": {
        "colab": {
          "base_uri": "https://localhost:8080/"
        },
        "id": "tsD9lfz1fB-X",
        "outputId": "0f9604b7-a417-47bd-b7d3-f7e037fdb048"
      },
      "execution_count": 27,
      "outputs": [
        {
          "output_type": "stream",
          "name": "stdout",
          "text": [
            "[( 3, 15) ( 3, 43) ( 9, 61) ( 9, 75) (15, 43) (20, 53) (20, 90) (21, 63)\n",
            " (21, 90) (26, 48) (26, 66) (27, 37) (27, 95) (30, 57) (30, 65) (31, 44)\n",
            " (31, 45) (37, 95) (44, 45) (44, 59) (44, 90) (48, 66) (53, 90) (57, 65)\n",
            " (59, 90) (61, 75) (63, 90) (66, 72) (66, 80) (72, 80)]\n"
          ]
        }
      ]
    },
    {
      "cell_type": "markdown",
      "source": [
        "14. Given a sorted array C that corresponds to a bincount, how to produce an array A such that np.bincount(A) == C?"
      ],
      "metadata": {
        "id": "IzNO_xu0jQAZ"
      }
    },
    {
      "cell_type": "code",
      "source": [
        "C = np.bincount([1,1,2,3,4,4,6])\n",
        "A = np.repeat(np.arange(len(C)), C)\n",
        "print(A)"
      ],
      "metadata": {
        "colab": {
          "base_uri": "https://localhost:8080/"
        },
        "id": "LcvrWEyKfMSz",
        "outputId": "16ade061-8ba0-4182-9327-bf2a8e7c7302"
      },
      "execution_count": 28,
      "outputs": [
        {
          "output_type": "stream",
          "name": "stdout",
          "text": [
            "[1 1 2 3 4 4 6]\n"
          ]
        }
      ]
    },
    {
      "cell_type": "markdown",
      "source": [
        "15. How to compute averages using a sliding window over an array?"
      ],
      "metadata": {
        "id": "XQdDbtA1jmtk"
      }
    },
    {
      "cell_type": "code",
      "source": [
        "def moving_average(a, n=3) :\n",
        "    ret = np.cumsum(a, dtype=float)\n",
        "    ret[n:] = ret[n:] - ret[:-n]\n",
        "    return ret[n - 1:] / n\n",
        "Z = np.arange(20)\n",
        "print(moving_average(Z, n=3))"
      ],
      "metadata": {
        "colab": {
          "base_uri": "https://localhost:8080/"
        },
        "id": "GrRqEU_CfQg8",
        "outputId": "14f27afe-9dea-46bf-c0d1-f2f56dbc0dc4"
      },
      "execution_count": 29,
      "outputs": [
        {
          "output_type": "stream",
          "name": "stdout",
          "text": [
            "[ 1.  2.  3.  4.  5.  6.  7.  8.  9. 10. 11. 12. 13. 14. 15. 16. 17. 18.]\n"
          ]
        }
      ]
    },
    {
      "cell_type": "markdown",
      "source": [
        "16. Consider a one-dimensional array Z, build a two-dimensional array whose first row is (Z[0],Z[1],Z[2]) and each subsequent row is shifted by 1 (last row should be (Z[-3],Z[-2],Z[-1])"
      ],
      "metadata": {
        "id": "ilTJVTnyj6nx"
      }
    },
    {
      "cell_type": "code",
      "source": [
        "from numpy.lib import stride_tricks\n",
        "\n",
        "def rolling(a, window):\n",
        "    shape = (a.size - window + 1, window)\n",
        "    strides = (a.itemsize, a.itemsize)\n",
        "    return stride_tricks.as_strided(a, shape=shape, strides=strides)\n",
        "Z = rolling(np.arange(10), 3)\n",
        "print(Z)"
      ],
      "metadata": {
        "colab": {
          "base_uri": "https://localhost:8080/"
        },
        "id": "cs-x0gsnfhJe",
        "outputId": "df5bf223-25da-472e-ba98-a390eaf8e5fa"
      },
      "execution_count": 30,
      "outputs": [
        {
          "output_type": "stream",
          "name": "stdout",
          "text": [
            "[[0 1 2]\n",
            " [1 2 3]\n",
            " [2 3 4]\n",
            " [3 4 5]\n",
            " [4 5 6]\n",
            " [5 6 7]\n",
            " [6 7 8]\n",
            " [7 8 9]]\n"
          ]
        }
      ]
    },
    {
      "cell_type": "markdown",
      "source": [
        "17. How to negate a boolean, or to change the sign of a float inplace?"
      ],
      "metadata": {
        "id": "Z7xM02q3kOS0"
      }
    },
    {
      "cell_type": "code",
      "source": [
        "Z = np.random.randint(0,2,100)\n",
        "np.logical_not(Z, out=Z)\n",
        "\n",
        "Z = np.random.uniform(-1.0,1.0,100)\n",
        "np.negative(Z, out=Z)"
      ],
      "metadata": {
        "id": "CNZMA4FkftEV"
      },
      "execution_count": null,
      "outputs": []
    },
    {
      "cell_type": "markdown",
      "source": [
        "18. Consider 2 sets of points P0,P1 describing lines (2d) and a point p, how to compute distance from p to each line i (P0[i],P1[i])?"
      ],
      "metadata": {
        "id": "J9knLh0xkzGV"
      }
    },
    {
      "cell_type": "markdown",
      "source": [
        "19. Consider 2 sets of points P0,P1 describing lines (2d) and a set of points P, how to compute distance from each point j (P[j]) to each line i (P0[i],P1[i])?"
      ],
      "metadata": {
        "id": "9HzPJs2XlH21"
      }
    },
    {
      "cell_type": "markdown",
      "source": [
        "20. Consider an arbitrary array, write a function that extract a subpart with a fixed shape and centered on a given element (pad with a fill value when necessary)\n",
        "\n",
        "Still working on it."
      ],
      "metadata": {
        "id": "kAH_15D4l1l4"
      }
    },
    {
      "cell_type": "markdown",
      "source": [
        "21. Consider an array Z = [1,2,3,4,5,6,7,8,9,10,11,12,13,14], how to generate an array R = [[1,2,3,4], [2,3,4,5], [3,4,5,6], ..., [11,12,13,14]]?"
      ],
      "metadata": {
        "id": "9ASW8M6KofTP"
      }
    },
    {
      "cell_type": "code",
      "source": [
        "Z = np.arange(1,15,dtype=np.uint32)\n",
        "R = stride_tricks.as_strided(Z,(11,4),(4,4))\n",
        "print(R)"
      ],
      "metadata": {
        "colab": {
          "base_uri": "https://localhost:8080/"
        },
        "id": "gyytFGSpgEu-",
        "outputId": "7d15aadf-8be6-4c47-8378-bfe942d97f7b"
      },
      "execution_count": 31,
      "outputs": [
        {
          "output_type": "stream",
          "name": "stdout",
          "text": [
            "[[ 1  2  3  4]\n",
            " [ 2  3  4  5]\n",
            " [ 3  4  5  6]\n",
            " [ 4  5  6  7]\n",
            " [ 5  6  7  8]\n",
            " [ 6  7  8  9]\n",
            " [ 7  8  9 10]\n",
            " [ 8  9 10 11]\n",
            " [ 9 10 11 12]\n",
            " [10 11 12 13]\n",
            " [11 12 13 14]]\n"
          ]
        }
      ]
    },
    {
      "cell_type": "markdown",
      "source": [
        "22. Compute a matrix rank"
      ],
      "metadata": {
        "id": "c4mg1iWhorSw"
      }
    },
    {
      "cell_type": "code",
      "source": [
        "matrix = np.array([[1, 2, 3],\n",
        "                   [4, 5, 6],\n",
        "                   [7, 8, 9]])\n",
        "\n",
        "rank = np.linalg.matrix_rank(matrix)\n",
        "\n",
        "print(\"Rank of the matrix:\", rank)\n"
      ],
      "metadata": {
        "id": "jMDBZxBpo0uu",
        "colab": {
          "base_uri": "https://localhost:8080/"
        },
        "outputId": "793cc517-60e6-480d-f6fc-e11f40ad403b"
      },
      "execution_count": 32,
      "outputs": [
        {
          "output_type": "stream",
          "name": "stdout",
          "text": [
            "Rank of the matrix: 2\n"
          ]
        }
      ]
    },
    {
      "cell_type": "markdown",
      "source": [
        "23. How to find the most frequent value in an array?"
      ],
      "metadata": {
        "id": "h9batquGq390"
      }
    },
    {
      "cell_type": "code",
      "source": [
        "array = np.array([1, 2, 3, 2, 2, 3, 4, 2, 5, 2])\n",
        "\n",
        "counts = np.bincount(array)\n",
        "\n",
        "most_frequent_value = np.argmax(counts)\n",
        "\n",
        "print(\"Most frequent value:\", most_frequent_value)\n"
      ],
      "metadata": {
        "id": "mv7Y-7Icq76y",
        "colab": {
          "base_uri": "https://localhost:8080/"
        },
        "outputId": "e6e5ff7f-5544-43b0-8c1c-1c890447e1f0"
      },
      "execution_count": 33,
      "outputs": [
        {
          "output_type": "stream",
          "name": "stdout",
          "text": [
            "Most frequent value: 2\n"
          ]
        }
      ]
    },
    {
      "cell_type": "markdown",
      "source": [
        "24. Extract all the contiguous 3x3 blocks from a random 10x10 matrix"
      ],
      "metadata": {
        "id": "FQFFj7RmrLF6"
      }
    },
    {
      "cell_type": "code",
      "source": [
        "Z = np.random.randint(0,5,(10,10))\n",
        "n = 3\n",
        "i = 1 + (Z.shape[0]-3)\n",
        "j = 1 + (Z.shape[1]-3)\n",
        "C = stride_tricks.as_strided(Z, shape=(i, j, n, n), strides=Z.strides + Z.strides)\n",
        "print(C)"
      ],
      "metadata": {
        "colab": {
          "base_uri": "https://localhost:8080/"
        },
        "id": "ZLfOpmo5g1Sr",
        "outputId": "ee90f27d-3c15-4131-d54f-fd624479c79a"
      },
      "execution_count": 34,
      "outputs": [
        {
          "output_type": "stream",
          "name": "stdout",
          "text": [
            "[[[[1 1 1]\n",
            "   [4 3 1]\n",
            "   [2 1 2]]\n",
            "\n",
            "  [[1 1 0]\n",
            "   [3 1 0]\n",
            "   [1 2 2]]\n",
            "\n",
            "  [[1 0 2]\n",
            "   [1 0 4]\n",
            "   [2 2 1]]\n",
            "\n",
            "  [[0 2 0]\n",
            "   [0 4 4]\n",
            "   [2 1 2]]\n",
            "\n",
            "  [[2 0 1]\n",
            "   [4 4 2]\n",
            "   [1 2 4]]\n",
            "\n",
            "  [[0 1 3]\n",
            "   [4 2 3]\n",
            "   [2 4 3]]\n",
            "\n",
            "  [[1 3 0]\n",
            "   [2 3 2]\n",
            "   [4 3 1]]\n",
            "\n",
            "  [[3 0 2]\n",
            "   [3 2 1]\n",
            "   [3 1 0]]]\n",
            "\n",
            "\n",
            " [[[4 3 1]\n",
            "   [2 1 2]\n",
            "   [3 2 4]]\n",
            "\n",
            "  [[3 1 0]\n",
            "   [1 2 2]\n",
            "   [2 4 2]]\n",
            "\n",
            "  [[1 0 4]\n",
            "   [2 2 1]\n",
            "   [4 2 3]]\n",
            "\n",
            "  [[0 4 4]\n",
            "   [2 1 2]\n",
            "   [2 3 3]]\n",
            "\n",
            "  [[4 4 2]\n",
            "   [1 2 4]\n",
            "   [3 3 2]]\n",
            "\n",
            "  [[4 2 3]\n",
            "   [2 4 3]\n",
            "   [3 2 2]]\n",
            "\n",
            "  [[2 3 2]\n",
            "   [4 3 1]\n",
            "   [2 2 4]]\n",
            "\n",
            "  [[3 2 1]\n",
            "   [3 1 0]\n",
            "   [2 4 2]]]\n",
            "\n",
            "\n",
            " [[[2 1 2]\n",
            "   [3 2 4]\n",
            "   [1 2 3]]\n",
            "\n",
            "  [[1 2 2]\n",
            "   [2 4 2]\n",
            "   [2 3 3]]\n",
            "\n",
            "  [[2 2 1]\n",
            "   [4 2 3]\n",
            "   [3 3 4]]\n",
            "\n",
            "  [[2 1 2]\n",
            "   [2 3 3]\n",
            "   [3 4 4]]\n",
            "\n",
            "  [[1 2 4]\n",
            "   [3 3 2]\n",
            "   [4 4 4]]\n",
            "\n",
            "  [[2 4 3]\n",
            "   [3 2 2]\n",
            "   [4 4 1]]\n",
            "\n",
            "  [[4 3 1]\n",
            "   [2 2 4]\n",
            "   [4 1 3]]\n",
            "\n",
            "  [[3 1 0]\n",
            "   [2 4 2]\n",
            "   [1 3 4]]]\n",
            "\n",
            "\n",
            " [[[3 2 4]\n",
            "   [1 2 3]\n",
            "   [4 2 1]]\n",
            "\n",
            "  [[2 4 2]\n",
            "   [2 3 3]\n",
            "   [2 1 2]]\n",
            "\n",
            "  [[4 2 3]\n",
            "   [3 3 4]\n",
            "   [1 2 1]]\n",
            "\n",
            "  [[2 3 3]\n",
            "   [3 4 4]\n",
            "   [2 1 2]]\n",
            "\n",
            "  [[3 3 2]\n",
            "   [4 4 4]\n",
            "   [1 2 1]]\n",
            "\n",
            "  [[3 2 2]\n",
            "   [4 4 1]\n",
            "   [2 1 4]]\n",
            "\n",
            "  [[2 2 4]\n",
            "   [4 1 3]\n",
            "   [1 4 1]]\n",
            "\n",
            "  [[2 4 2]\n",
            "   [1 3 4]\n",
            "   [4 1 0]]]\n",
            "\n",
            "\n",
            " [[[1 2 3]\n",
            "   [4 2 1]\n",
            "   [4 4 3]]\n",
            "\n",
            "  [[2 3 3]\n",
            "   [2 1 2]\n",
            "   [4 3 3]]\n",
            "\n",
            "  [[3 3 4]\n",
            "   [1 2 1]\n",
            "   [3 3 2]]\n",
            "\n",
            "  [[3 4 4]\n",
            "   [2 1 2]\n",
            "   [3 2 2]]\n",
            "\n",
            "  [[4 4 4]\n",
            "   [1 2 1]\n",
            "   [2 2 0]]\n",
            "\n",
            "  [[4 4 1]\n",
            "   [2 1 4]\n",
            "   [2 0 2]]\n",
            "\n",
            "  [[4 1 3]\n",
            "   [1 4 1]\n",
            "   [0 2 2]]\n",
            "\n",
            "  [[1 3 4]\n",
            "   [4 1 0]\n",
            "   [2 2 1]]]\n",
            "\n",
            "\n",
            " [[[4 2 1]\n",
            "   [4 4 3]\n",
            "   [1 0 2]]\n",
            "\n",
            "  [[2 1 2]\n",
            "   [4 3 3]\n",
            "   [0 2 1]]\n",
            "\n",
            "  [[1 2 1]\n",
            "   [3 3 2]\n",
            "   [2 1 0]]\n",
            "\n",
            "  [[2 1 2]\n",
            "   [3 2 2]\n",
            "   [1 0 2]]\n",
            "\n",
            "  [[1 2 1]\n",
            "   [2 2 0]\n",
            "   [0 2 4]]\n",
            "\n",
            "  [[2 1 4]\n",
            "   [2 0 2]\n",
            "   [2 4 4]]\n",
            "\n",
            "  [[1 4 1]\n",
            "   [0 2 2]\n",
            "   [4 4 3]]\n",
            "\n",
            "  [[4 1 0]\n",
            "   [2 2 1]\n",
            "   [4 3 0]]]\n",
            "\n",
            "\n",
            " [[[4 4 3]\n",
            "   [1 0 2]\n",
            "   [1 1 2]]\n",
            "\n",
            "  [[4 3 3]\n",
            "   [0 2 1]\n",
            "   [1 2 2]]\n",
            "\n",
            "  [[3 3 2]\n",
            "   [2 1 0]\n",
            "   [2 2 3]]\n",
            "\n",
            "  [[3 2 2]\n",
            "   [1 0 2]\n",
            "   [2 3 0]]\n",
            "\n",
            "  [[2 2 0]\n",
            "   [0 2 4]\n",
            "   [3 0 3]]\n",
            "\n",
            "  [[2 0 2]\n",
            "   [2 4 4]\n",
            "   [0 3 4]]\n",
            "\n",
            "  [[0 2 2]\n",
            "   [4 4 3]\n",
            "   [3 4 4]]\n",
            "\n",
            "  [[2 2 1]\n",
            "   [4 3 0]\n",
            "   [4 4 2]]]\n",
            "\n",
            "\n",
            " [[[1 0 2]\n",
            "   [1 1 2]\n",
            "   [4 1 4]]\n",
            "\n",
            "  [[0 2 1]\n",
            "   [1 2 2]\n",
            "   [1 4 0]]\n",
            "\n",
            "  [[2 1 0]\n",
            "   [2 2 3]\n",
            "   [4 0 4]]\n",
            "\n",
            "  [[1 0 2]\n",
            "   [2 3 0]\n",
            "   [0 4 1]]\n",
            "\n",
            "  [[0 2 4]\n",
            "   [3 0 3]\n",
            "   [4 1 0]]\n",
            "\n",
            "  [[2 4 4]\n",
            "   [0 3 4]\n",
            "   [1 0 1]]\n",
            "\n",
            "  [[4 4 3]\n",
            "   [3 4 4]\n",
            "   [0 1 2]]\n",
            "\n",
            "  [[4 3 0]\n",
            "   [4 4 2]\n",
            "   [1 2 3]]]]\n"
          ]
        }
      ]
    },
    {
      "cell_type": "markdown",
      "source": [
        "25. Create a 2D array subclass such that Z[i,j] == Z[j,i]\n",
        "\n",
        "Still working on it."
      ],
      "metadata": {
        "id": "X8mqitc4rasX"
      }
    },
    {
      "cell_type": "markdown",
      "source": [
        "26. Consider a set of p matrices wich shape (n,n) and a set of p vectors with shape (n,1). How to compute the sum of of the p matrix products at once? (result has shape (n,1))\n",
        "\n",
        "I cant work my way around this one, still working on it."
      ],
      "metadata": {
        "id": "RqWczdkdsghn"
      }
    },
    {
      "cell_type": "markdown",
      "source": [
        "27. Consider a 16x16 array, how to get the block-sum (block size is 4x4)?"
      ],
      "metadata": {
        "id": "lUdVfFpgs23r"
      }
    },
    {
      "cell_type": "code",
      "source": [
        "a = np.ones((16,16))\n",
        "k = 4\n",
        "S = np.add.reduceat(np.add.reduceat(a, np.arange(0, a.shape[0], k), axis=0),\n",
        "                                       np.arange(0, a.shape[1], k), axis=1)\n",
        "print(S)"
      ],
      "metadata": {
        "colab": {
          "base_uri": "https://localhost:8080/"
        },
        "id": "69fmW81LhDY_",
        "outputId": "0e1915cf-9b00-4069-a987-33d5a39c0d94"
      },
      "execution_count": 3,
      "outputs": [
        {
          "output_type": "stream",
          "name": "stdout",
          "text": [
            "[[16. 16. 16. 16.]\n",
            " [16. 16. 16. 16.]\n",
            " [16. 16. 16. 16.]\n",
            " [16. 16. 16. 16.]]\n"
          ]
        }
      ]
    },
    {
      "cell_type": "markdown",
      "source": [
        "28. How to implement the Game of Life using numpy arrays?"
      ],
      "metadata": {
        "id": "pIQpozEGtDwC"
      }
    },
    {
      "cell_type": "markdown",
      "source": [
        "29. How to get the n largest values of an array"
      ],
      "metadata": {
        "id": "xAu1DqvIteIS"
      }
    },
    {
      "cell_type": "code",
      "source": [
        "Z = np.arange(10000)\n",
        "np.random.shuffle(Z)\n",
        "n = 5\n",
        "\n",
        "print (Z[np.argpartition(-Z,n)[:n]])"
      ],
      "metadata": {
        "colab": {
          "base_uri": "https://localhost:8080/"
        },
        "id": "Nwr-Q5PxgAsE",
        "outputId": "caa8764a-0972-4ff9-a479-8f1702210b90"
      },
      "execution_count": 4,
      "outputs": [
        {
          "output_type": "stream",
          "name": "stdout",
          "text": [
            "[9999 9998 9997 9996 9995]\n"
          ]
        }
      ]
    },
    {
      "cell_type": "markdown",
      "source": [
        "30. Given an arbitrary number of vectors, build the cartesian product (every combinations of every item)"
      ],
      "metadata": {
        "id": "6WPLKuCEt2yP"
      }
    },
    {
      "cell_type": "code",
      "source": [
        "def cartesian(arrays):\n",
        "    arrays = [np.asarray(a) for a in arrays]\n",
        "    shape = (len(x) for x in arrays)\n",
        "\n",
        "    ix = np.indices(shape, dtype=int)\n",
        "    ix = ix.reshape(len(arrays), -1).T\n",
        "\n",
        "    for n, arr in enumerate(arrays):\n",
        "        ix[:, n] = arrays[n][ix[:, n]]\n",
        "\n",
        "    return ix\n",
        "\n",
        "print (cartesian(([1, 2, 3], [4, 5], [6, 7])))"
      ],
      "metadata": {
        "colab": {
          "base_uri": "https://localhost:8080/"
        },
        "id": "gIqGXQ6PgXLT",
        "outputId": "b8a1dd1f-73e9-410d-80bf-025fa06683c2"
      },
      "execution_count": 5,
      "outputs": [
        {
          "output_type": "stream",
          "name": "stdout",
          "text": [
            "[[1 4 6]\n",
            " [1 4 7]\n",
            " [1 5 6]\n",
            " [1 5 7]\n",
            " [2 4 6]\n",
            " [2 4 7]\n",
            " [2 5 6]\n",
            " [2 5 7]\n",
            " [3 4 6]\n",
            " [3 4 7]\n",
            " [3 5 6]\n",
            " [3 5 7]]\n"
          ]
        }
      ]
    },
    {
      "cell_type": "markdown",
      "source": [
        "31. How to create a record array from a regular array?"
      ],
      "metadata": {
        "id": "veqfhv-wuHSO"
      }
    },
    {
      "cell_type": "code",
      "source": [
        "Z = np.array([(\"Hello\", 2.5, 3),\n",
        "              (\"World\", 3.6, 2)])\n",
        "R = np.core.records.fromarrays(Z.T,\n",
        "                               names='col1, col2, col3',\n",
        "                               formats = 'S8, f8, i8')\n",
        "print(R)"
      ],
      "metadata": {
        "id": "DXL1voWmguU2"
      },
      "execution_count": null,
      "outputs": []
    },
    {
      "cell_type": "markdown",
      "source": [
        "32. Consider a large vector Z, compute Z to the power of 3 using 3 different methods"
      ],
      "metadata": {
        "id": "lnLEuhWEuZwY"
      }
    },
    {
      "cell_type": "code",
      "source": [
        "Z = np.random.randint(1, 10, size=(1000000,))\n",
        "\n",
        "result1 = Z ** 3\n",
        "\n",
        "result2 = np.power(Z, 3)\n",
        "\n",
        "result3 = np.empty_like(Z)\n",
        "for i in range(len(Z)):\n",
        "    result3[i] = Z[i] **3\n",
        "assert np.array_equal(result1, result2) and np.array_equal(result2, result3)\n",
        "\n",
        "print(\"Results are equal.\")\n"
      ],
      "metadata": {
        "id": "rge3FHWfueyM"
      },
      "execution_count": null,
      "outputs": []
    },
    {
      "cell_type": "markdown",
      "source": [
        "33. Consider two arrays A and B of shape (8,3) and (2,2). How to find rows of A that contain elements of each row of B regardless of the order of the elements in B?\n",
        "\n",
        "Didnt manage this one still working on it."
      ],
      "metadata": {
        "id": "me60HObBu2Zn"
      }
    },
    {
      "cell_type": "markdown",
      "source": [
        "34. Considering a 10x3 matrix, extract rows with unequal values (e.g. [2,2,3])"
      ],
      "metadata": {
        "id": "q9CUaptZwXMV"
      }
    },
    {
      "cell_type": "code",
      "source": [
        "matrix = np.array([[1, 2, 3],\n",
        "                   [4, 5, 6],\n",
        "                   [7, 7, 7],\n",
        "                   [2, 2, 2],\n",
        "                   [3, 3, 3],\n",
        "                   [4, 4, 4],\n",
        "                   [5, 6, 7],\n",
        "                   [8, 8, 8],\n",
        "                   [9, 9, 9],\n",
        "                   [10, 11, 12]])\n",
        "\n",
        "\n",
        "unequal_rows = matrix[np.apply_along_axis(lambda row: len(np.unique(row)) > 1, axis=1, arr=matrix)]\n",
        "\n",
        "print(\"Rows with unequal values:\")\n",
        "print(unequal_rows)\n"
      ],
      "metadata": {
        "id": "QN7z79CKwkxT",
        "colab": {
          "base_uri": "https://localhost:8080/"
        },
        "outputId": "520f7056-0e2a-4793-f8ae-54b8b9a7beaf"
      },
      "execution_count": 6,
      "outputs": [
        {
          "output_type": "stream",
          "name": "stdout",
          "text": [
            "Rows with unequal values:\n",
            "[[ 1  2  3]\n",
            " [ 4  5  6]\n",
            " [ 5  6  7]\n",
            " [10 11 12]]\n"
          ]
        }
      ]
    },
    {
      "cell_type": "markdown",
      "source": [
        "35. Convert a vector of ints into a matrix binary representation"
      ],
      "metadata": {
        "id": "N4K2prQiwzOb"
      }
    },
    {
      "cell_type": "code",
      "source": [
        "I = np.array([0, 1, 2, 3, 15, 16, 32, 64, 128], dtype=np.uint8)\n",
        "print(np.unpackbits(I[:, np.newaxis], axis=1))"
      ],
      "metadata": {
        "colab": {
          "base_uri": "https://localhost:8080/"
        },
        "id": "Iro0w2H0iJ4c",
        "outputId": "3bcf2961-f209-4d4d-eacb-89d29a4485e1"
      },
      "execution_count": 7,
      "outputs": [
        {
          "output_type": "stream",
          "name": "stdout",
          "text": [
            "[[0 0 0 0 0 0 0 0]\n",
            " [0 0 0 0 0 0 0 1]\n",
            " [0 0 0 0 0 0 1 0]\n",
            " [0 0 0 0 0 0 1 1]\n",
            " [0 0 0 0 1 1 1 1]\n",
            " [0 0 0 1 0 0 0 0]\n",
            " [0 0 1 0 0 0 0 0]\n",
            " [0 1 0 0 0 0 0 0]\n",
            " [1 0 0 0 0 0 0 0]]\n"
          ]
        }
      ]
    },
    {
      "cell_type": "markdown",
      "source": [
        "36. Given a two dimensional array, how to extract unique rows?"
      ],
      "metadata": {
        "id": "09Kbyo_RxEwe"
      }
    },
    {
      "cell_type": "code",
      "source": [
        "\n",
        "array = np.array([[1, 2, 3],\n",
        "                  [4, 5, 6],\n",
        "                  [1, 2, 3],\n",
        "                  [7, 8, 9],\n",
        "                  [4, 5, 6]])\n",
        "\n",
        "unique_rows = np.unique(array, axis=0)\n",
        "\n",
        "print(\"Unique rows:\")\n",
        "print(unique_rows)\n"
      ],
      "metadata": {
        "id": "xHYMe_n3xLdG",
        "colab": {
          "base_uri": "https://localhost:8080/"
        },
        "outputId": "553d352d-5f1b-464e-fff8-65f24fa24588"
      },
      "execution_count": 8,
      "outputs": [
        {
          "output_type": "stream",
          "name": "stdout",
          "text": [
            "Unique rows:\n",
            "[[1 2 3]\n",
            " [4 5 6]\n",
            " [7 8 9]]\n"
          ]
        }
      ]
    },
    {
      "cell_type": "markdown",
      "source": [
        "37. Considering 2 vectors A & B, write the einsum equivalent of inner, outer, sum, and mul function"
      ],
      "metadata": {
        "id": "WuQbWB7ExVpk"
      }
    },
    {
      "cell_type": "code",
      "source": [
        "A = np.random.uniform(0,1,10)\n",
        "B = np.random.uniform(0,1,10)\n",
        "\n",
        "np.einsum('i->', A)       # np.sum(A)\n",
        "np.einsum('i,i->i', A, B) # A * B\n",
        "np.einsum('i,i', A, B)    # np.inner(A, B)\n",
        "np.einsum('i,j->ij', A, B)    # np.outer(A, B)"
      ],
      "metadata": {
        "id": "I_UhyevckTwE"
      },
      "execution_count": null,
      "outputs": []
    },
    {
      "cell_type": "markdown",
      "source": [
        "38. Considering a path described by two vectors (X,Y), how to sample it using equidistant samples?"
      ],
      "metadata": {
        "id": "Hzg0ZmH9xyXN"
      }
    },
    {
      "cell_type": "markdown",
      "source": [
        "39. Given an integer n and a 2D array X, select from X the rows which can be interpreted as draws from a multinomial distribution with n degrees, i.e., the rows which only contain integers and which sum to n."
      ],
      "metadata": {
        "id": "3CYmIialyRyU"
      }
    },
    {
      "cell_type": "code",
      "source": [
        "X = np.asarray([[1.0, 0.0, 3.0, 8.0],\n",
        "                [2.0, 0.0, 1.0, 1.0],\n",
        "                [1.5, 2.5, 1.0, 0.0]])\n",
        "n = 4\n",
        "M = np.logical_and.reduce(np.mod(X, 1) == 0, axis=-1)\n",
        "M &= (X.sum(axis=-1) == n)\n",
        "print(X[M])"
      ],
      "metadata": {
        "id": "KINqEPuOk0b_"
      },
      "execution_count": null,
      "outputs": []
    },
    {
      "cell_type": "markdown",
      "source": [
        "40. Compute bootstrapped 95% confidence intervals for the mean of a 1D array X (i.e., resample the elements of an array with replacement N times, compute the mean of each sample, and then compute percentiles over the means)."
      ],
      "metadata": {
        "id": "vEDo3Ajxykbb"
      }
    },
    {
      "cell_type": "code",
      "source": [
        "X = np.random.randn(100) # random 1D array\n",
        "N = 1000 # number of bootstrap samples\n",
        "idx = np.random.randint(0, X.size, (N, X.size))\n",
        "means = X[idx].mean(axis=1)\n",
        "confint = np.percentile(means, [2.5, 97.5])\n",
        "print(confint)"
      ],
      "metadata": {
        "colab": {
          "base_uri": "https://localhost:8080/"
        },
        "id": "neuXXffzlN-t",
        "outputId": "2193b125-f1cf-4c23-f996-7a831f14d388"
      },
      "execution_count": 9,
      "outputs": [
        {
          "output_type": "stream",
          "name": "stdout",
          "text": [
            "[-0.07322329  0.28946104]\n"
          ]
        }
      ]
    }
  ]
}