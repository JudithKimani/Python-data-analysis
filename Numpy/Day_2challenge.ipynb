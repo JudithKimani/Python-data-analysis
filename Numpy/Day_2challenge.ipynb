{
  "nbformat": 4,
  "nbformat_minor": 0,
  "metadata": {
    "colab": {
      "provenance": []
    },
    "kernelspec": {
      "name": "python3",
      "display_name": "Python 3"
    },
    "language_info": {
      "name": "python"
    }
  },
  "cells": [
    {
      "cell_type": "code",
      "execution_count": 1,
      "metadata": {
        "id": "lUMvs0iY8BAO"
      },
      "outputs": [],
      "source": [
        "import numpy as np"
      ]
    },
    {
      "cell_type": "markdown",
      "source": [
        "1. How to add a border (filled with 0's) around an existing array?"
      ],
      "metadata": {
        "id": "CCRm23Xg91Rd"
      }
    },
    {
      "cell_type": "code",
      "source": [
        "array = np.ones((3,3))\n",
        "\n",
        "print(array)\n",
        "array = np.pad(array, pad_width=1, mode='constant',\n",
        "               constant_values=0)\n",
        "\n",
        "print(array)"
      ],
      "metadata": {
        "colab": {
          "base_uri": "https://localhost:8080/"
        },
        "id": "hZBpCKOU93K8",
        "outputId": "08e934f5-62a7-414b-c326-a476688e6b04"
      },
      "execution_count": 3,
      "outputs": [
        {
          "output_type": "stream",
          "name": "stdout",
          "text": [
            "[[1. 1. 1.]\n",
            " [1. 1. 1.]\n",
            " [1. 1. 1.]]\n",
            "[[0. 0. 0. 0. 0.]\n",
            " [0. 1. 1. 1. 0.]\n",
            " [0. 1. 1. 1. 0.]\n",
            " [0. 1. 1. 1. 0.]\n",
            " [0. 0. 0. 0. 0.]]\n"
          ]
        }
      ]
    },
    {
      "cell_type": "markdown",
      "source": [
        "2. What is the result of the following expression? (★☆☆)\n",
        "0 * np.nan\n",
        "np.nan == np.nan\n",
        "np.inf > np.nan\n",
        "np.nan - np.nan\n",
        "np.nan in set([np.nan])\n",
        "0.3 == 3 * 0.1"
      ],
      "metadata": {
        "id": "4qgxi6uW-V8_"
      }
    },
    {
      "cell_type": "code",
      "source": [
        "0 * np.nan\n",
        "np.nan == np.nan\n",
        "np.inf > np.nan\n",
        "np.nan - np.nan\n",
        "np.nan in set([np.nan])\n",
        "0.3 == 3 * 0.1"
      ],
      "metadata": {
        "colab": {
          "base_uri": "https://localhost:8080/"
        },
        "id": "LmPic6fM-pDw",
        "outputId": "68ec69ca-ff9d-4ae9-b2f3-34ad3bf7a6f5"
      },
      "execution_count": 4,
      "outputs": [
        {
          "output_type": "execute_result",
          "data": {
            "text/plain": [
              "False"
            ]
          },
          "metadata": {},
          "execution_count": 4
        }
      ]
    },
    {
      "cell_type": "markdown",
      "source": [
        "3. Create a 5x5 matrix with values 1,2,3,4 just below the diagonal"
      ],
      "metadata": {
        "id": "nhUDpmg5-usU"
      }
    },
    {
      "cell_type": "code",
      "source": [
        "matrix = np.zeros((5, 5))\n",
        "\n",
        "values = [1, 2, 3, 4]\n",
        "for t, value in enumerate(values, start=1):\n",
        "    matrix[t, t-1] = value\n",
        "\n",
        "print(matrix)\n"
      ],
      "metadata": {
        "colab": {
          "base_uri": "https://localhost:8080/"
        },
        "id": "oQoQzuTQ_R3x",
        "outputId": "95534b3a-1206-4c16-db3e-cdf5c6c1c781"
      },
      "execution_count": 6,
      "outputs": [
        {
          "output_type": "stream",
          "name": "stdout",
          "text": [
            "[[0. 0. 0. 0. 0.]\n",
            " [1. 0. 0. 0. 0.]\n",
            " [0. 2. 0. 0. 0.]\n",
            " [0. 0. 3. 0. 0.]\n",
            " [0. 0. 0. 4. 0.]]\n"
          ]
        }
      ]
    },
    {
      "cell_type": "markdown",
      "source": [
        "4. Create a 8x8 matrix and fill it with a checkerboard pattern"
      ],
      "metadata": {
        "id": "AQ_bEVsBAIax"
      }
    },
    {
      "cell_type": "code",
      "source": [
        "x = np.ones((3, 3))\n",
        "\n",
        "print(\"Checkerboard pattern:\")\n",
        "\n",
        "x = np.zeros((8, 8))\n",
        "x[1::2, ::2] = 1\n",
        "x[::2, 1::2] = 1\n",
        "print(x)\n"
      ],
      "metadata": {
        "colab": {
          "base_uri": "https://localhost:8080/"
        },
        "id": "dbtSBSYrAM8o",
        "outputId": "261d4ac3-8685-48a2-af28-c866edd54c31"
      },
      "execution_count": 7,
      "outputs": [
        {
          "output_type": "stream",
          "name": "stdout",
          "text": [
            "Checkerboard pattern:\n",
            "[[0. 1. 0. 1. 0. 1. 0. 1.]\n",
            " [1. 0. 1. 0. 1. 0. 1. 0.]\n",
            " [0. 1. 0. 1. 0. 1. 0. 1.]\n",
            " [1. 0. 1. 0. 1. 0. 1. 0.]\n",
            " [0. 1. 0. 1. 0. 1. 0. 1.]\n",
            " [1. 0. 1. 0. 1. 0. 1. 0.]\n",
            " [0. 1. 0. 1. 0. 1. 0. 1.]\n",
            " [1. 0. 1. 0. 1. 0. 1. 0.]]\n"
          ]
        }
      ]
    },
    {
      "cell_type": "markdown",
      "source": [
        "5. Consider a (6,7,8) shape array, what is the index (x,y,z) of the 100th element?"
      ],
      "metadata": {
        "id": "LKIB7QkGDdk5"
      }
    },
    {
      "cell_type": "code",
      "source": [
        "shape = (6, 7, 8)\n",
        "\n",
        "index = np.unravel_index(99, shape)\n",
        "\n",
        "print(\"Index (x, y, z) of the 100th element:\", index)\n"
      ],
      "metadata": {
        "colab": {
          "base_uri": "https://localhost:8080/"
        },
        "id": "qA2BRvkWDe6a",
        "outputId": "e5e76274-263e-419a-a187-43b5d190bbcf"
      },
      "execution_count": 8,
      "outputs": [
        {
          "output_type": "stream",
          "name": "stdout",
          "text": [
            "Index (x, y, z) of the 100th element: (1, 5, 3)\n"
          ]
        }
      ]
    },
    {
      "cell_type": "markdown",
      "source": [
        "6. Create a checkerboard 8x8 matrix using the tile function"
      ],
      "metadata": {
        "id": "m38mvCTQFAX4"
      }
    },
    {
      "cell_type": "code",
      "source": [
        "checkerboard_pattern = np.array([[0, 1], [1, 0]])\n",
        "\n",
        "\n",
        "checkerboard_matrix = np.tile(checkerboard_pattern, (4, 4))\n",
        "\n",
        "print(checkerboard_matrix)\n"
      ],
      "metadata": {
        "colab": {
          "base_uri": "https://localhost:8080/"
        },
        "id": "WuziN43fFHtr",
        "outputId": "5e450c4e-c615-41ce-dd9a-cf5d2488f5a3"
      },
      "execution_count": 9,
      "outputs": [
        {
          "output_type": "stream",
          "name": "stdout",
          "text": [
            "[[0 1 0 1 0 1 0 1]\n",
            " [1 0 1 0 1 0 1 0]\n",
            " [0 1 0 1 0 1 0 1]\n",
            " [1 0 1 0 1 0 1 0]\n",
            " [0 1 0 1 0 1 0 1]\n",
            " [1 0 1 0 1 0 1 0]\n",
            " [0 1 0 1 0 1 0 1]\n",
            " [1 0 1 0 1 0 1 0]]\n"
          ]
        }
      ]
    },
    {
      "cell_type": "markdown",
      "source": [
        "7. Normalize a 5x5 random matrix"
      ],
      "metadata": {
        "id": "WDWBVZCKGelK"
      }
    },
    {
      "cell_type": "code",
      "source": [
        "matrix = np.random.random((5, 5))\n",
        "\n",
        "matrix_mean = np.mean(matrix)\n",
        "matrix_std_dev = np.std(matrix)\n",
        "\n",
        "#To normalize a matrix means to scale its values so that they fall within a specific range or follow a certain distribution. One common normalization technique is to rescale the values to have a mean of 0 and a standard deviation of 1, also known as z-score normalization.\n",
        "normalized_matrix = (matrix - matrix_mean) / matrix_std_dev\n",
        "\n",
        "print(\"Original Matrix:\")\n",
        "print(matrix)\n",
        "print(\"\\nNormalized Matrix:\")\n",
        "print(normalized_matrix)\n"
      ],
      "metadata": {
        "colab": {
          "base_uri": "https://localhost:8080/"
        },
        "id": "KZ9WltyUGn7J",
        "outputId": "4d281c43-f2d3-475a-c949-364aaa86b4ed"
      },
      "execution_count": 10,
      "outputs": [
        {
          "output_type": "stream",
          "name": "stdout",
          "text": [
            "Original Matrix:\n",
            "[[0.45386937 0.77626609 0.19823701 0.61592963 0.02091652]\n",
            " [0.67953466 0.51183264 0.34479418 0.35989424 0.88090446]\n",
            " [0.02899326 0.85549336 0.41316402 0.01816103 0.46988444]\n",
            " [0.18152919 0.79899927 0.81321921 0.56271541 0.76645924]\n",
            " [0.05742296 0.3730293  0.01228334 0.33326951 0.79502182]]\n",
            "\n",
            "Normalized Matrix:\n",
            "[[ 0.00344158  1.11700124 -0.8795137   0.56319842 -1.49197944]\n",
            " [ 0.78289046  0.20364698 -0.37330458 -0.32114893  1.47842261]\n",
            " [-1.46408232  1.39065257 -0.13715487 -1.5014969   0.0587577 ]\n",
            " [-0.93722256  1.19552174  1.24463748  0.37939628  1.08312833]\n",
            " [-1.36588602 -0.27578037 -1.52179848 -0.41311086  1.18178363]]\n"
          ]
        }
      ]
    },
    {
      "cell_type": "markdown",
      "source": [
        "8. Create a custom dtype that describes a color as four unsigned bytes (RGBA)"
      ],
      "metadata": {
        "id": "WxfZRjCxIKHA"
      }
    },
    {
      "cell_type": "code",
      "source": [
        "dtype_rgba = np.dtype([\n",
        "    ('R', np.uint8),\n",
        "    ('G', np.uint8),\n",
        "    ('B', np.uint8),\n",
        "    ('A', np.uint8)\n",
        "])\n",
        "\n",
        "colors = np.array([(255, 0, 0, 255), (0, 255, 0, 255), (0, 0, 255, 255)],dtype=dtype_rgba)\n",
        "print(colors)"
      ],
      "metadata": {
        "colab": {
          "base_uri": "https://localhost:8080/"
        },
        "id": "46L91oHJIPkt",
        "outputId": "051f9c06-e63b-4fec-9132-e1b6af8b5b46"
      },
      "execution_count": 13,
      "outputs": [
        {
          "output_type": "stream",
          "name": "stdout",
          "text": [
            "[(255,   0,   0, 255) (  0, 255,   0, 255) (  0,   0, 255, 255)]\n"
          ]
        }
      ]
    },
    {
      "cell_type": "markdown",
      "source": [
        "9. Multiply a 5x3 matrix by a 3x2 matrix (real matrix product)"
      ],
      "metadata": {
        "id": "pa1S-r85Jcnj"
      }
    },
    {
      "cell_type": "code",
      "source": [
        "x = np.random.random((5,3))\n",
        "\n",
        "print(\"First array:\")\n",
        "print(x)\n",
        "\n",
        "y = np.random.random((3,2))\n",
        "\n",
        "print(\"Second array:\")\n",
        "print(y)\n",
        "\n",
        "\n",
        "z = np.dot(x, y)\n",
        "\n",
        "print(\"Dot product of two arrays:\")\n",
        "print(z)"
      ],
      "metadata": {
        "colab": {
          "base_uri": "https://localhost:8080/"
        },
        "id": "kmteQJEDJ0M8",
        "outputId": "8c0b68f3-59f3-45fb-a01b-e3b708ae2207"
      },
      "execution_count": 14,
      "outputs": [
        {
          "output_type": "stream",
          "name": "stdout",
          "text": [
            "First array:\n",
            "[[0.44657147 0.41306929 0.22321749]\n",
            " [0.78133984 0.8266446  0.06551802]\n",
            " [0.90648021 0.39585435 0.64609154]\n",
            " [0.01432908 0.07084149 0.55416029]\n",
            " [0.76917448 0.62440375 0.5854627 ]]\n",
            "Second array:\n",
            "[[0.13472302 0.85626623]\n",
            " [0.82055511 0.58843921]\n",
            " [0.02491621 0.04934643]]\n",
            "Dot product of two arrays:\n",
            "[[0.40467131 0.63646523]\n",
            " [0.78520438 1.1586981 ]\n",
            " [0.46304222 1.04100693]\n",
            " [0.07386738 0.08130125]\n",
            " [0.63057072 1.05493228]]\n"
          ]
        }
      ]
    },
    {
      "cell_type": "markdown",
      "source": [
        "10. Given a 1D array, negate all elements which are between 3 and 8, in place."
      ],
      "metadata": {
        "id": "I85l4cnDKgPY"
      }
    },
    {
      "cell_type": "code",
      "source": [
        "array = np.array([1, 5, 4, 9, 7, 2, 6, 3, 8, 10])\n",
        "\n",
        "indices = np.where((array > 3) & (array < 8))\n",
        "\n",
        "array[indices] *= -1\n",
        "\n",
        "print(\"Modified Array:\", array)\n"
      ],
      "metadata": {
        "colab": {
          "base_uri": "https://localhost:8080/"
        },
        "id": "ew2F5BvRKlpm",
        "outputId": "659741a8-9ac8-4496-86e3-c14abe0ef4bf"
      },
      "execution_count": 16,
      "outputs": [
        {
          "output_type": "stream",
          "name": "stdout",
          "text": [
            "Modified Array: [ 1 -5 -4  9 -7  2 -6  3  8 10]\n"
          ]
        }
      ]
    },
    {
      "cell_type": "markdown",
      "source": [
        "11. What is the output of the following script?"
      ],
      "metadata": {
        "id": "nd_5EePOLnSH"
      }
    },
    {
      "cell_type": "code",
      "source": [
        "print(sum(range(5),-1))\n",
        "from numpy import *\n",
        "print(sum(range(5),-1))"
      ],
      "metadata": {
        "colab": {
          "base_uri": "https://localhost:8080/"
        },
        "id": "4CkqjbhlLsbL",
        "outputId": "c81ae75c-57f0-4022-f8bb-1dd891a4db4e"
      },
      "execution_count": 17,
      "outputs": [
        {
          "output_type": "stream",
          "name": "stdout",
          "text": [
            "9\n",
            "10\n"
          ]
        }
      ]
    },
    {
      "cell_type": "markdown",
      "source": [
        "12. Consider an integer vector Z, which of these expressions are legal?\n",
        "Z**Z\n",
        "2 << Z >> 2\n",
        "Z <- Z\n",
        "1j*Z\n",
        "Z/1/1\n",
        "Z<Z>Z"
      ],
      "metadata": {
        "id": "4rJJWBPcLyeV"
      }
    },
    {
      "cell_type": "markdown",
      "source": [
        "Z**Z\n",
        "2 << Z >> 2\n",
        "Z <- Z\n",
        "1j*Z\n",
        "Z/1/1\n",
        "These are legal"
      ],
      "metadata": {
        "id": "CbiF70aDL9HU"
      }
    },
    {
      "cell_type": "markdown",
      "source": [
        "13. What are the result of the following expressions?"
      ],
      "metadata": {
        "id": "oU3CwX4DMjuy"
      }
    },
    {
      "cell_type": "markdown",
      "source": [
        "np.array(0) / np.array(0) = This expression will raise a runtime warning or error indicating division by zero.\n",
        "\n",
        "np.array(0) // np.array(0) = This expression will raise a runtime warning or error indicating division by zero.\n",
        "\n",
        "np.array([np.nan]).astype(int).astype(float) = This expression converts a numpy array containing a NaN (Not a Number) value to an integer type and then back to a float type. When you convert a NaN value to an integer, it becomes 0, and then when you convert it back to a float, it remains 0.0. So, the resulting array will be array([0.])."
      ],
      "metadata": {
        "id": "vaHKwFAvM-lc"
      }
    },
    {
      "cell_type": "markdown",
      "source": [
        "14. How to round away from zero a float array ?"
      ],
      "metadata": {
        "id": "BRMJAqZnNfX1"
      }
    },
    {
      "cell_type": "code",
      "source": [
        "array = np.array([-2.5, -1.8, 0.3, 1.5, 2.7])\n",
        "\n",
        "result = np.ceil(array)\n",
        "\n",
        "print(result)"
      ],
      "metadata": {
        "colab": {
          "base_uri": "https://localhost:8080/"
        },
        "id": "m7l06MNCOH8Z",
        "outputId": "41cd5345-f5f1-4c25-9bf1-706159ff16df"
      },
      "execution_count": 21,
      "outputs": [
        {
          "output_type": "stream",
          "name": "stdout",
          "text": [
            "[-2. -1.  1.  2.  3.]\n"
          ]
        }
      ]
    },
    {
      "cell_type": "markdown",
      "source": [
        "15. How to find common values between two arrays?"
      ],
      "metadata": {
        "id": "sbRJzdIYOQMy"
      }
    },
    {
      "cell_type": "code",
      "source": [
        "array1 = np.array([0, 10, 20, 40, 60])\n",
        "\n",
        "print(\"Array1: \", array1)\n",
        "\n",
        "array2 = [10, 30, 40]\n",
        "\n",
        "print(\"Array2: \", array2)\n",
        "\n",
        "print(\"Common values between two arrays:\")\n",
        "print(np.intersect1d(array1, array2))"
      ],
      "metadata": {
        "colab": {
          "base_uri": "https://localhost:8080/"
        },
        "id": "VXH7F7KFOVX_",
        "outputId": "670bd347-4cf1-49be-a041-96a7f45d02cb"
      },
      "execution_count": 22,
      "outputs": [
        {
          "output_type": "stream",
          "name": "stdout",
          "text": [
            "Array1:  [ 0 10 20 40 60]\n",
            "Array2:  [10, 30, 40]\n",
            "Common values between two arrays:\n",
            "[10 40]\n"
          ]
        }
      ]
    }
  ]
}